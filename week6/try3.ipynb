{
 "cells": [
  {
   "cell_type": "code",
   "execution_count": null,
   "metadata": {},
   "outputs": [],
   "source": [
    "import csv\n",
    "import requests\n",
    "import time\n",
    "\n",
    "def fetch_data_from_api(api_url):\n",
    "    try:\n",
    "        response = requests.get(api_url)\n",
    "        if response.status_code == 200:\n",
    "            return response.json()\n",
    "        else:\n",
    "            print(f\"Failed to fetch data from API. Status code: {response.status_code}\")\n",
    "            return None\n",
    "    except requests.exceptions.RequestException as e:\n",
    "        print(f\"Error fetching data: {e}\")\n",
    "        return None\n",
    "\n",
    "def write_data_to_csv(data, csv_file):\n",
    "    try:\n",
    "        with open(csv_file, mode='w', newline='') as file:\n",
    "            writer = csv.DictWriter(file, fieldnames=data[0].keys())\n",
    "            writer.writeheader()\n",
    "            for row in data:\n",
    "                writer.writerow(row)\n",
    "        print(\"Data written to CSV successfully.\")\n",
    "    except IOError as e:\n",
    "        print(f\"Error writing to CSV: {e}\")\n",
    "\n",
    "# Example usage:\n",
    "if __name__ == \"__main__\":\n",
    "    api_url = 'https://qaqcmilktruck-qfcu3qoavq-uc.a.run.app/5572/milk_truck_sensor'\n",
    "    csv_file = 'milk3.csv'\n",
    "    \n",
    "    while True:\n",
    "        data = fetch_data_from_api(api_url)\n",
    "        if data:\n",
    "            write_data_to_csv(data, csv_file)\n",
    "        time.sleep(5)  # Fetch data every 5 seconds\n"
   ]
  },
  {
   "cell_type": "code",
   "execution_count": 4,
   "metadata": {},
   "outputs": [
    {
     "ename": "KeyError",
     "evalue": "0",
     "output_type": "error",
     "traceback": [
      "\u001b[0;31m---------------------------------------------------------------------------\u001b[0m",
      "\u001b[0;31mKeyError\u001b[0m                                  Traceback (most recent call last)",
      "\u001b[1;32m/Users/scrosson/Documents/GitHub/GIS5572_S24/week6/try3.ipynb Cell 2\u001b[0m line \u001b[0;36m1\n\u001b[1;32m      <a href='vscode-notebook-cell:/Users/scrosson/Documents/GitHub/GIS5572_S24/week6/try3.ipynb#W1sZmlsZQ%3D%3D?line=8'>9</a>\u001b[0m csv_file \u001b[39m=\u001b[39m \u001b[39m'\u001b[39m\u001b[39mmilk3.csv\u001b[39m\u001b[39m'\u001b[39m\n\u001b[1;32m     <a href='vscode-notebook-cell:/Users/scrosson/Documents/GitHub/GIS5572_S24/week6/try3.ipynb#W1sZmlsZQ%3D%3D?line=9'>10</a>\u001b[0m \u001b[39mwith\u001b[39;00m \u001b[39mopen\u001b[39m(csv_file, mode\u001b[39m=\u001b[39m\u001b[39m'\u001b[39m\u001b[39mw\u001b[39m\u001b[39m'\u001b[39m, newline\u001b[39m=\u001b[39m\u001b[39m'\u001b[39m\u001b[39m'\u001b[39m) \u001b[39mas\u001b[39;00m file:\n\u001b[0;32m---> <a href='vscode-notebook-cell:/Users/scrosson/Documents/GitHub/GIS5572_S24/week6/try3.ipynb#W1sZmlsZQ%3D%3D?line=10'>11</a>\u001b[0m     writer \u001b[39m=\u001b[39m csv\u001b[39m.\u001b[39mDictWriter(file, fieldnames\u001b[39m=\u001b[39mdata[\u001b[39m0\u001b[39m]\u001b[39m.\u001b[39mkeys())\n\u001b[1;32m     <a href='vscode-notebook-cell:/Users/scrosson/Documents/GitHub/GIS5572_S24/week6/try3.ipynb#W1sZmlsZQ%3D%3D?line=11'>12</a>\u001b[0m     writer\u001b[39m.\u001b[39mwriteheader()\n\u001b[1;32m     <a href='vscode-notebook-cell:/Users/scrosson/Documents/GitHub/GIS5572_S24/week6/try3.ipynb#W1sZmlsZQ%3D%3D?line=12'>13</a>\u001b[0m     \u001b[39mfor\u001b[39;00m row \u001b[39min\u001b[39;00m data:        writer\u001b[39m.\u001b[39mwriterow(row)\n",
      "\u001b[0;31mKeyError\u001b[0m: 0"
     ]
    }
   ],
   "source": [
    "import requests\n",
    "import time\n",
    "import csv\n",
    "\n",
    "api_url = 'https://qaqcmilktruck-qfcu3qoavq-uc.a.run.app/5572/milk_truck_sensor'\n",
    "response = requests.get(api_url)\n",
    "data = response.json()\n",
    "\n",
    "csv_file = 'milk3.csv'\n",
    "with open(csv_file, mode='w', newline='') as file:\n",
    "    writer = csv.DictWriter(file, fieldnames=data[0].keys())\n",
    "    writer.writeheader()\n",
    "    for row in data:        writer.writerow(row)\n",
    "\n"
   ]
  }
 ],
 "metadata": {
  "kernelspec": {
   "display_name": "base",
   "language": "python",
   "name": "python3"
  },
  "language_info": {
   "codemirror_mode": {
    "name": "ipython",
    "version": 3
   },
   "file_extension": ".py",
   "mimetype": "text/x-python",
   "name": "python",
   "nbconvert_exporter": "python",
   "pygments_lexer": "ipython3",
   "version": "3.11.6"
  }
 },
 "nbformat": 4,
 "nbformat_minor": 2
}
