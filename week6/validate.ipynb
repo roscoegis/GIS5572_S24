{
 "cells": [
  {
   "cell_type": "code",
   "execution_count": null,
   "metadata": {},
   "outputs": [],
   "source": []
  },
  {
   "cell_type": "code",
   "execution_count": 1,
   "metadata": {},
   "outputs": [],
   "source": [
    "import csv\n",
    "import requests\n",
    "import json\n",
    "import time\n",
    "import pandas as pd"
   ]
  },
  {
   "cell_type": "code",
   "execution_count": 2,
   "metadata": {},
   "outputs": [],
   "source": [
    "# Define the URL and pull the data\n",
    "milktruck = \"https://qaqcmilktruck-qfcu3qoavq-uc.a.run.app/5572/milk_truck_sensor\"\n",
    "#response = requests.get(milktruck)\n"
   ]
  },
  {
   "cell_type": "code",
   "execution_count": 3,
   "metadata": {},
   "outputs": [
    {
     "name": "stdout",
     "output_type": "stream",
     "text": [
      "Data fetched successfully {'lat': 48.597860405491105, 'lon': -94.51530779037147, 'current_time': '02/25/24:22:14:59', 'air_temperature': 43.11660524675437}\n",
      "Data fetched successfully {'lat': 46.284841033260584, 'lon': -95.01710613863298, 'current_time': '02/25/24:22:15:04', 'air_temperature': 9.752124058552589}\n",
      "Data fetched successfully {'lat': 48.37242307562157, 'lon': -93.57815582724783, 'current_time': '02/25/24:22:15:09', 'air_temperature': 13.987762588145426}\n",
      "Data fetched successfully {'lat': 46.4733908380794, 'lon': -93.8217547126463, 'current_time': '02/25/24:22:15:14', 'air_temperature': 58.75179980355003}\n",
      "Data fetched successfully {'lat': 46.83494155229774, 'lon': 'nan', 'current_time': '02/25/24:22:15:20', 'air_temperature': 44.70033954861402}\n",
      "Exiting\n"
     ]
    },
    {
     "ename": "",
     "evalue": "",
     "output_type": "error",
     "traceback": [
      "\u001b[1;31mThe Kernel crashed while executing code in the the current cell or a previous cell. Please review the code in the cell(s) to identify a possible cause of the failure. Click <a href='https://aka.ms/vscodeJupyterKernelCrash'>here</a> for more info. View Jupyter <a href='command:jupyter.viewOutput'>log</a> for further details."
     ]
    }
   ],
   "source": [
    "# Bring in data\n",
    "try:\n",
    "    while True:\n",
    "        response = requests.get(milktruck)\n",
    "        if response.status_code != 200:\n",
    "            print(\"Failed to fetch data:\", response.status_code)\n",
    "            exit()\n",
    "        else:\n",
    "            print(\"Data fetched successfully\", response.json())\n",
    "\n",
    "        time.sleep(5)\n",
    "\n",
    "except KeyboardInterrupt:\n",
    "    print(\"Exiting\")\n",
    "    exit(0)\n",
    "\n",
    "\n"
   ]
  },
  {
   "cell_type": "code",
   "execution_count": null,
   "metadata": {},
   "outputs": [],
   "source": [
    "req_fields = [\"lat\", \"lon\", \"current_time\", \"air_temperature\" ]\n",
    "with open('milktruck.csv', 'w', newline='') as f_output:\n",
    "    writer = csv.DictWriter(f_output, fieldnames=req_fields)\n",
    "    writer.writeheader()\n",
    "    writer.writerows(response.json())"
   ]
  },
  {
   "cell_type": "code",
   "execution_count": null,
   "metadata": {},
   "outputs": [
    {
     "ename": "NameError",
     "evalue": "name 'response' is not defined",
     "output_type": "error",
     "traceback": [
      "\u001b[0;31m---------------------------------------------------------------------------\u001b[0m",
      "\u001b[0;31mNameError\u001b[0m                                 Traceback (most recent call last)",
      "\u001b[1;32m/Users/scrosson/Documents/GitHub/GIS5572_S24/week6/validate.ipynb Cell 5\u001b[0m line \u001b[0;36m1\n\u001b[0;32m----> <a href='vscode-notebook-cell:/Users/scrosson/Documents/GitHub/GIS5572_S24/week6/validate.ipynb#W4sZmlsZQ%3D%3D?line=0'>1</a>\u001b[0m data \u001b[39m=\u001b[39m response\u001b[39m.\u001b[39mjson()\n\u001b[1;32m      <a href='vscode-notebook-cell:/Users/scrosson/Documents/GitHub/GIS5572_S24/week6/validate.ipynb#W4sZmlsZQ%3D%3D?line=1'>2</a>\u001b[0m milkarray \u001b[39m=\u001b[39m []\n\u001b[1;32m      <a href='vscode-notebook-cell:/Users/scrosson/Documents/GitHub/GIS5572_S24/week6/validate.ipynb#W4sZmlsZQ%3D%3D?line=2'>3</a>\u001b[0m \u001b[39mfor\u001b[39;00m milkarray \u001b[39min\u001b[39;00m data:\n",
      "\u001b[0;31mNameError\u001b[0m: name 'response' is not defined"
     ]
    }
   ],
   "source": [
    "\n",
    "milkarray = []\n",
    "for milkarray in response.json():\n",
    "    milkarray_info = {\n",
    "        'Latitude': milkarray['lat'],\n",
    "        'Longitude': milkarray['lon'],\n",
    "        'Time': milkarray['current_time'],\n",
    "        'Temperature': milkarray['air_temperature'],\n",
    "    }\n",
    "milkarray.append(milkarray_info)\n"
   ]
  },
  {
   "cell_type": "code",
   "execution_count": null,
   "metadata": {},
   "outputs": [
    {
     "name": "stdout",
     "output_type": "stream",
     "text": [
      "Data fetched successfully\n"
     ]
    }
   ],
   "source": [
    "\n",
    "\n",
    "# Write the data to a csv file\n",
    "with open('milktruck.csv', 'w') as file:\n",
    "    writer = csv.writer(file)\n",
    "    writer.writerow([\"lat\", \"long\", \"time\", 'temp'])\n",
    "    for item in response.json():\n",
    "        writer.writerow([item[\"lat\"], item[\"lon\"], item[\"current_time\"], item[\"air_temperature\"]])\n",
    "    "
   ]
  }
 ],
 "metadata": {
  "kernelspec": {
   "display_name": "base",
   "language": "python",
   "name": "python3"
  },
  "language_info": {
   "codemirror_mode": {
    "name": "ipython",
    "version": 3
   },
   "file_extension": ".py",
   "mimetype": "text/x-python",
   "name": "python",
   "nbconvert_exporter": "python",
   "pygments_lexer": "ipython3",
   "version": "3.11.6"
  }
 },
 "nbformat": 4,
 "nbformat_minor": 2
}
