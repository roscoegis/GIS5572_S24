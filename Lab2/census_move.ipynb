{
 "cells": [
  {
   "cell_type": "code",
   "execution_count": 2,
   "metadata": {},
   "outputs": [],
   "source": [
    "# import the modules I need\n",
    "import zipfile\n",
    "import pandas as pd\n",
    "import geopandas as gpd\n",
    "import numpy as np\n",
    "import fiona\n",
    "import csv\n"
   ]
  },
  {
   "cell_type": "code",
   "execution_count": 3,
   "metadata": {},
   "outputs": [],
   "source": [
    ">>> from sqlalchemy import create_engine\n",
    ">>> engine = create_engine('sqlite://', echo=False)"
   ]
  },
  {
   "cell_type": "code",
   "execution_count": 6,
   "metadata": {},
   "outputs": [
    {
     "ename": "ValueError",
     "evalue": "GeoDataFrame does not support multiple columns using the geometry column name 'geometry'.",
     "output_type": "error",
     "traceback": [
      "\u001b[0;31m---------------------------------------------------------------------------\u001b[0m",
      "\u001b[0;31mValueError\u001b[0m                                Traceback (most recent call last)",
      "\u001b[1;32m/Users/scrosson/Documents/GitHub/GIS5572_S24/Lab2/census_move.ipynb Cell 3\u001b[0m line \u001b[0;36m1\n\u001b[0;32m----> <a href='vscode-notebook-cell:/Users/scrosson/Documents/GitHub/GIS5572_S24/Lab2/census_move.ipynb#W2sZmlsZQ%3D%3D?line=0'>1</a>\u001b[0m hennepin \u001b[39m=\u001b[39m gpd\u001b[39m.\u001b[39mread_file(\u001b[39m\"\u001b[39m\u001b[39mhennepin_data.csv\u001b[39m\u001b[39m\"\u001b[39m)\n\u001b[1;32m      <a href='vscode-notebook-cell:/Users/scrosson/Documents/GitHub/GIS5572_S24/Lab2/census_move.ipynb#W2sZmlsZQ%3D%3D?line=1'>2</a>\u001b[0m hennepin\u001b[39m.\u001b[39mhead()\n",
      "File \u001b[0;32m~/anaconda3/lib/python3.11/site-packages/geopandas/io/file.py:297\u001b[0m, in \u001b[0;36m_read_file\u001b[0;34m(filename, bbox, mask, rows, engine, **kwargs)\u001b[0m\n\u001b[1;32m    294\u001b[0m     \u001b[39melse\u001b[39;00m:\n\u001b[1;32m    295\u001b[0m         path_or_bytes \u001b[39m=\u001b[39m filename\n\u001b[0;32m--> 297\u001b[0m     \u001b[39mreturn\u001b[39;00m _read_file_fiona(\n\u001b[1;32m    298\u001b[0m         path_or_bytes, from_bytes, bbox\u001b[39m=\u001b[39mbbox, mask\u001b[39m=\u001b[39mmask, rows\u001b[39m=\u001b[39mrows, \u001b[39m*\u001b[39m\u001b[39m*\u001b[39mkwargs\n\u001b[1;32m    299\u001b[0m     )\n\u001b[1;32m    301\u001b[0m \u001b[39melse\u001b[39;00m:\n\u001b[1;32m    302\u001b[0m     \u001b[39mraise\u001b[39;00m \u001b[39mValueError\u001b[39;00m(\u001b[39mf\u001b[39m\u001b[39m\"\u001b[39m\u001b[39munknown engine \u001b[39m\u001b[39m'\u001b[39m\u001b[39m{\u001b[39;00mengine\u001b[39m}\u001b[39;00m\u001b[39m'\u001b[39m\u001b[39m\"\u001b[39m)\n",
      "File \u001b[0;32m~/anaconda3/lib/python3.11/site-packages/geopandas/io/file.py:395\u001b[0m, in \u001b[0;36m_read_file_fiona\u001b[0;34m(path_or_bytes, from_bytes, bbox, mask, rows, where, **kwargs)\u001b[0m\n\u001b[1;32m    391\u001b[0m     df \u001b[39m=\u001b[39m pd\u001b[39m.\u001b[39mDataFrame(\n\u001b[1;32m    392\u001b[0m         [record[\u001b[39m\"\u001b[39m\u001b[39mproperties\u001b[39m\u001b[39m\"\u001b[39m] \u001b[39mfor\u001b[39;00m record \u001b[39min\u001b[39;00m f_filt], columns\u001b[39m=\u001b[39mcolumns\n\u001b[1;32m    393\u001b[0m     )\n\u001b[1;32m    394\u001b[0m \u001b[39melse\u001b[39;00m:\n\u001b[0;32m--> 395\u001b[0m     df \u001b[39m=\u001b[39m GeoDataFrame\u001b[39m.\u001b[39mfrom_features(\n\u001b[1;32m    396\u001b[0m         f_filt, crs\u001b[39m=\u001b[39mcrs, columns\u001b[39m=\u001b[39mcolumns \u001b[39m+\u001b[39m [\u001b[39m\"\u001b[39m\u001b[39mgeometry\u001b[39m\u001b[39m\"\u001b[39m]\n\u001b[1;32m    397\u001b[0m     )\n\u001b[1;32m    398\u001b[0m \u001b[39mfor\u001b[39;00m k \u001b[39min\u001b[39;00m datetime_fields:\n\u001b[1;32m    399\u001b[0m     as_dt \u001b[39m=\u001b[39m pd\u001b[39m.\u001b[39mto_datetime(df[k], errors\u001b[39m=\u001b[39m\u001b[39m\"\u001b[39m\u001b[39mignore\u001b[39m\u001b[39m\"\u001b[39m)\n",
      "File \u001b[0;32m~/anaconda3/lib/python3.11/site-packages/geopandas/geodataframe.py:649\u001b[0m, in \u001b[0;36mGeoDataFrame.from_features\u001b[0;34m(cls, features, crs, columns)\u001b[0m\n\u001b[1;32m    647\u001b[0m     row\u001b[39m.\u001b[39mupdate(properties)\n\u001b[1;32m    648\u001b[0m     rows\u001b[39m.\u001b[39mappend(row)\n\u001b[0;32m--> 649\u001b[0m \u001b[39mreturn\u001b[39;00m \u001b[39mcls\u001b[39m(rows, columns\u001b[39m=\u001b[39mcolumns, crs\u001b[39m=\u001b[39mcrs)\n",
      "File \u001b[0;32m~/anaconda3/lib/python3.11/site-packages/geopandas/geodataframe.py:163\u001b[0m, in \u001b[0;36mGeoDataFrame.__init__\u001b[0;34m(self, data, geometry, crs, *args, **kwargs)\u001b[0m\n\u001b[1;32m    154\u001b[0m \u001b[39mif\u001b[39;00m (\n\u001b[1;32m    155\u001b[0m     geometry \u001b[39mis\u001b[39;00m \u001b[39mNone\u001b[39;00m\n\u001b[1;32m    156\u001b[0m     \u001b[39mand\u001b[39;00m \u001b[39mself\u001b[39m\u001b[39m.\u001b[39mcolumns\u001b[39m.\u001b[39mnlevels \u001b[39m==\u001b[39m \u001b[39m1\u001b[39m\n\u001b[0;32m   (...)\u001b[0m\n\u001b[1;32m    160\u001b[0m     \u001b[39m# self[\"geometry\"] is a gdf and constructor gets recursively recalled\u001b[39;00m\n\u001b[1;32m    161\u001b[0m     \u001b[39m# by pandas internals trying to access this\u001b[39;00m\n\u001b[1;32m    162\u001b[0m     \u001b[39mif\u001b[39;00m (\u001b[39mself\u001b[39m\u001b[39m.\u001b[39mcolumns \u001b[39m==\u001b[39m \u001b[39m\"\u001b[39m\u001b[39mgeometry\u001b[39m\u001b[39m\"\u001b[39m)\u001b[39m.\u001b[39msum() \u001b[39m>\u001b[39m \u001b[39m1\u001b[39m:\n\u001b[0;32m--> 163\u001b[0m         \u001b[39mraise\u001b[39;00m \u001b[39mValueError\u001b[39;00m(\n\u001b[1;32m    164\u001b[0m             \u001b[39m\"\u001b[39m\u001b[39mGeoDataFrame does not support multiple columns \u001b[39m\u001b[39m\"\u001b[39m\n\u001b[1;32m    165\u001b[0m             \u001b[39m\"\u001b[39m\u001b[39musing the geometry column name \u001b[39m\u001b[39m'\u001b[39m\u001b[39mgeometry\u001b[39m\u001b[39m'\u001b[39m\u001b[39m.\u001b[39m\u001b[39m\"\u001b[39m\n\u001b[1;32m    166\u001b[0m         )\n\u001b[1;32m    168\u001b[0m     \u001b[39m# only if we have actual geometry values -> call set_geometry\u001b[39;00m\n\u001b[1;32m    169\u001b[0m     \u001b[39mtry\u001b[39;00m:\n",
      "\u001b[0;31mValueError\u001b[0m: GeoDataFrame does not support multiple columns using the geometry column name 'geometry'."
     ]
    }
   ],
   "source": [
    "hennepin = gpd.read_file(\"hennepin_data.csv\")\n",
    "hennepin.head()"
   ]
  },
  {
   "cell_type": "code",
   "execution_count": 7,
   "metadata": {},
   "outputs": [],
   "source": [
    "htest = pd.read_csv(\"hennepin_data.csv\")"
   ]
  },
  {
   "cell_type": "code",
   "execution_count": 8,
   "metadata": {},
   "outputs": [
    {
     "data": {
      "text/html": [
       "<div>\n",
       "<style scoped>\n",
       "    .dataframe tbody tr th:only-of-type {\n",
       "        vertical-align: middle;\n",
       "    }\n",
       "\n",
       "    .dataframe tbody tr th {\n",
       "        vertical-align: top;\n",
       "    }\n",
       "\n",
       "    .dataframe thead th {\n",
       "        text-align: right;\n",
       "    }\n",
       "</style>\n",
       "<table border=\"1\" class=\"dataframe\">\n",
       "  <thead>\n",
       "    <tr style=\"text-align: right;\">\n",
       "      <th></th>\n",
       "      <th>Shape_Leng</th>\n",
       "      <th>Shape_Area</th>\n",
       "      <th>ORIG_FID</th>\n",
       "      <th>geometry</th>\n",
       "      <th>YEAR</th>\n",
       "      <th>COUNTY</th>\n",
       "      <th>Total Percentage</th>\n",
       "      <th>White Percentage</th>\n",
       "      <th>Black Percentage</th>\n",
       "      <th>Indigenous Percentage</th>\n",
       "      <th>Asian Percentage</th>\n",
       "    </tr>\n",
       "  </thead>\n",
       "  <tbody>\n",
       "    <tr>\n",
       "      <th>0</th>\n",
       "      <td>3496.840503</td>\n",
       "      <td>441168.385173</td>\n",
       "      <td>146347</td>\n",
       "      <td>POLYGON ((212501.29830000177 846841.1952, 2124...</td>\n",
       "      <td>2018-2022</td>\n",
       "      <td>Hennepin County</td>\n",
       "      <td>100.0</td>\n",
       "      <td>36.47</td>\n",
       "      <td>51.76</td>\n",
       "      <td>3.53</td>\n",
       "      <td>80.78</td>\n",
       "    </tr>\n",
       "    <tr>\n",
       "      <th>1</th>\n",
       "      <td>2289.570676</td>\n",
       "      <td>287225.232082</td>\n",
       "      <td>146348</td>\n",
       "      <td>POLYGON ((211701.95019999892 847427.3827999998...</td>\n",
       "      <td>2018-2022</td>\n",
       "      <td>Hennepin County</td>\n",
       "      <td>100.0</td>\n",
       "      <td>60.26</td>\n",
       "      <td>54.59</td>\n",
       "      <td>19.65</td>\n",
       "      <td>3.93</td>\n",
       "    </tr>\n",
       "    <tr>\n",
       "      <th>2</th>\n",
       "      <td>4974.206433</td>\n",
       "      <td>954995.718518</td>\n",
       "      <td>146349</td>\n",
       "      <td>POLYGON ((212400.70479999855 846837.8910000008...</td>\n",
       "      <td>2018-2022</td>\n",
       "      <td>Hennepin County</td>\n",
       "      <td>100.0</td>\n",
       "      <td>82.02</td>\n",
       "      <td>56.74</td>\n",
       "      <td>15.73</td>\n",
       "      <td>55.06</td>\n",
       "    </tr>\n",
       "    <tr>\n",
       "      <th>3</th>\n",
       "      <td>2652.063259</td>\n",
       "      <td>318147.586811</td>\n",
       "      <td>147513</td>\n",
       "      <td>POLYGON ((211701.95019999892 847427.3827999998...</td>\n",
       "      <td>2018-2022</td>\n",
       "      <td>Hennepin County</td>\n",
       "      <td>100.0</td>\n",
       "      <td>13.43</td>\n",
       "      <td>8.53</td>\n",
       "      <td>5.81</td>\n",
       "      <td>84.03</td>\n",
       "    </tr>\n",
       "    <tr>\n",
       "      <th>4</th>\n",
       "      <td>4335.461465</td>\n",
       "      <td>899903.000592</td>\n",
       "      <td>146350</td>\n",
       "      <td>POLYGON ((213948.50620000064 846843.0706999991...</td>\n",
       "      <td>2018-2022</td>\n",
       "      <td>Hennepin County</td>\n",
       "      <td>100.0</td>\n",
       "      <td>16.99</td>\n",
       "      <td>85.99</td>\n",
       "      <td>7.88</td>\n",
       "      <td>55.87</td>\n",
       "    </tr>\n",
       "  </tbody>\n",
       "</table>\n",
       "</div>"
      ],
      "text/plain": [
       "    Shape_Leng     Shape_Area  ORIG_FID  \\\n",
       "0  3496.840503  441168.385173    146347   \n",
       "1  2289.570676  287225.232082    146348   \n",
       "2  4974.206433  954995.718518    146349   \n",
       "3  2652.063259  318147.586811    147513   \n",
       "4  4335.461465  899903.000592    146350   \n",
       "\n",
       "                                            geometry       YEAR  \\\n",
       "0  POLYGON ((212501.29830000177 846841.1952, 2124...  2018-2022   \n",
       "1  POLYGON ((211701.95019999892 847427.3827999998...  2018-2022   \n",
       "2  POLYGON ((212400.70479999855 846837.8910000008...  2018-2022   \n",
       "3  POLYGON ((211701.95019999892 847427.3827999998...  2018-2022   \n",
       "4  POLYGON ((213948.50620000064 846843.0706999991...  2018-2022   \n",
       "\n",
       "            COUNTY  Total Percentage  White Percentage  Black Percentage  \\\n",
       "0  Hennepin County             100.0             36.47             51.76   \n",
       "1  Hennepin County             100.0             60.26             54.59   \n",
       "2  Hennepin County             100.0             82.02             56.74   \n",
       "3  Hennepin County             100.0             13.43              8.53   \n",
       "4  Hennepin County             100.0             16.99             85.99   \n",
       "\n",
       "   Indigenous Percentage  Asian Percentage  \n",
       "0                   3.53             80.78  \n",
       "1                  19.65              3.93  \n",
       "2                  15.73             55.06  \n",
       "3                   5.81             84.03  \n",
       "4                   7.88             55.87  "
      ]
     },
     "execution_count": 8,
     "metadata": {},
     "output_type": "execute_result"
    }
   ],
   "source": [
    "htest.head()\n"
   ]
  },
  {
   "cell_type": "code",
   "execution_count": null,
   "metadata": {},
   "outputs": [],
   "source": [
    "import psycopg2\n",
    "\n",
    "# Establish connection to PostgreSQL\n",
    "conn = psycopg2.connect(\n",
    "    dbname=\"gis5572\",\n",
    "    user=\"scrosson\",\n",
    "    password=\"dcu0cme.mpy@XND6wga\",\n",
    "    host=\"your_host\",\n",
    "    port=\"your_port\"\n",
    ")\n"
   ]
  }
 ],
 "metadata": {
  "kernelspec": {
   "display_name": "base",
   "language": "python",
   "name": "python3"
  },
  "language_info": {
   "codemirror_mode": {
    "name": "ipython",
    "version": 3
   },
   "file_extension": ".py",
   "mimetype": "text/x-python",
   "name": "python",
   "nbconvert_exporter": "python",
   "pygments_lexer": "ipython3",
   "version": "3.11.6"
  }
 },
 "nbformat": 4,
 "nbformat_minor": 2
}
