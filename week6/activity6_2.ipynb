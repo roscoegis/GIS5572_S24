{
 "cells": [
  {
   "cell_type": "code",
   "execution_count": 1,
   "metadata": {},
   "outputs": [],
   "source": [
    "import csv\n",
    "import requests\n",
    "import time\n"
   ]
  },
  {
   "cell_type": "code",
   "execution_count": 2,
   "metadata": {},
   "outputs": [],
   "source": [
    "api_url = \"https://qaqcmilktruck-qfcu3qoavq-uc.a.run.app/5572/milk_truck_sensor\""
   ]
  },
  {
   "cell_type": "code",
   "execution_count": null,
   "metadata": {},
   "outputs": [],
   "source": [
    "requests.get(api_url)"
   ]
  },
  {
   "cell_type": "code",
   "execution_count": 10,
   "metadata": {},
   "outputs": [
    {
     "ename": "TypeError",
     "evalue": "'Response' object is not subscriptable",
     "output_type": "error",
     "traceback": [
      "\u001b[0;31m---------------------------------------------------------------------------\u001b[0m",
      "\u001b[0;31mTypeError\u001b[0m                                 Traceback (most recent call last)",
      "\u001b[1;32m/Users/scrosson/Documents/GitHub/GIS5572_S24/week6/activity6_2.ipynb Cell 3\u001b[0m line \u001b[0;36m1\n\u001b[1;32m      <a href='vscode-notebook-cell:/Users/scrosson/Documents/GitHub/GIS5572_S24/week6/activity6_2.ipynb#W3sZmlsZQ%3D%3D?line=7'>8</a>\u001b[0m \u001b[39mif\u001b[39;00m data:\n\u001b[1;32m      <a href='vscode-notebook-cell:/Users/scrosson/Documents/GitHub/GIS5572_S24/week6/activity6_2.ipynb#W3sZmlsZQ%3D%3D?line=8'>9</a>\u001b[0m     \u001b[39mwith\u001b[39;00m \u001b[39mopen\u001b[39m(csv_file, mode\u001b[39m=\u001b[39m\u001b[39m'\u001b[39m\u001b[39ma\u001b[39m\u001b[39m'\u001b[39m, newline\u001b[39m=\u001b[39m\u001b[39m'\u001b[39m\u001b[39m'\u001b[39m) \u001b[39mas\u001b[39;00m file:\n\u001b[0;32m---> <a href='vscode-notebook-cell:/Users/scrosson/Documents/GitHub/GIS5572_S24/week6/activity6_2.ipynb#W3sZmlsZQ%3D%3D?line=9'>10</a>\u001b[0m         writer \u001b[39m=\u001b[39m csv\u001b[39m.\u001b[39mDictWriter(file, fieldnames\u001b[39m=\u001b[39mdata[\u001b[39m0\u001b[39m]\u001b[39m.\u001b[39mkeys())\n\u001b[1;32m     <a href='vscode-notebook-cell:/Users/scrosson/Documents/GitHub/GIS5572_S24/week6/activity6_2.ipynb#W3sZmlsZQ%3D%3D?line=10'>11</a>\u001b[0m         \u001b[39m# Write header only if the file is empty\u001b[39;00m\n\u001b[1;32m     <a href='vscode-notebook-cell:/Users/scrosson/Documents/GitHub/GIS5572_S24/week6/activity6_2.ipynb#W3sZmlsZQ%3D%3D?line=11'>12</a>\u001b[0m         \u001b[39mif\u001b[39;00m file\u001b[39m.\u001b[39mtell() \u001b[39m==\u001b[39m \u001b[39m0\u001b[39m:\n",
      "\u001b[0;31mTypeError\u001b[0m: 'Response' object is not subscriptable"
     ]
    }
   ],
   "source": [
    "\n",
    "\n",
    "# Example usage:\n",
    "if __name__ == \"__main__\":\n",
    "    api_url = \"https://qaqcmilktruck-qfcu3qoavq-uc.a.run.app/5572/milk_truck_sensor\"\n",
    "    csv_file = 'milkdata.csv'\n",
    "    \n",
    "    while True:\n",
    "        data = requests.get(api_url)\n",
    "        if data:\n",
    "            with open(csv_file, mode='a', newline='') as file:\n",
    "                writer = csv.DictWriter(file, fieldnames=data[0].keys())\n",
    "                # Write header only if the file is empty\n",
    "                if file.tell() == 0:\n",
    "                    writer.writeheader()\n",
    "                for row in data:\n",
    "                    writer.writerow(row)\n",
    "        time.sleep(5)  # Fetch data every 5 seconds\n",
    "\n",
    "if __name__ == \"__main__\":\n",
    "    api_url = \"https://qaqcmilktruck-qfcu3qoavq-uc.a.run.app/5572/milk_truck_sensor\"\n",
    "    csv_file = 'milkdata.csv'\n",
    "    \n",
    "    while True:\n",
    "        data = requests.get(api_url)\n",
    "        if data:\n",
    "            with open(csv_file, mode='a', newline='') as file:\n",
    "                writer = csv.DictWriter(file, fieldnames=data[0].keys())\n",
    "            # Write header only if the file is empty\n",
    "            if file.tell() == 0:\n",
    "                writer.writeheader()\n",
    "            for row in data:\n",
    "                writer.writerow(row)\n",
    "        time.sleep(5)  # Fetch data every 5 seconds"
   ]
  },
  {
   "cell_type": "code",
   "execution_count": 4,
   "metadata": {},
   "outputs": [
    {
     "ename": "KeyError",
     "evalue": "0",
     "output_type": "error",
     "traceback": [
      "\u001b[0;31m---------------------------------------------------------------------------\u001b[0m",
      "\u001b[0;31mKeyError\u001b[0m                                  Traceback (most recent call last)",
      "\u001b[1;32m/Users/scrosson/Documents/GitHub/GIS5572_S24/week6/activity6_2.ipynb Cell 3\u001b[0m line \u001b[0;36m3\n\u001b[1;32m     <a href='vscode-notebook-cell:/Users/scrosson/Documents/GitHub/GIS5572_S24/week6/activity6_2.ipynb#W1sZmlsZQ%3D%3D?line=30'>31</a>\u001b[0m data \u001b[39m=\u001b[39m fetch_data_from_api(api_url)\n\u001b[1;32m     <a href='vscode-notebook-cell:/Users/scrosson/Documents/GitHub/GIS5572_S24/week6/activity6_2.ipynb#W1sZmlsZQ%3D%3D?line=31'>32</a>\u001b[0m \u001b[39mif\u001b[39;00m data:\n\u001b[0;32m---> <a href='vscode-notebook-cell:/Users/scrosson/Documents/GitHub/GIS5572_S24/week6/activity6_2.ipynb#W1sZmlsZQ%3D%3D?line=32'>33</a>\u001b[0m     write_data_to_csv(data, csv_file)\n\u001b[1;32m     <a href='vscode-notebook-cell:/Users/scrosson/Documents/GitHub/GIS5572_S24/week6/activity6_2.ipynb#W1sZmlsZQ%3D%3D?line=33'>34</a>\u001b[0m     \u001b[39mprint\u001b[39m(\u001b[39m\"\u001b[39m\u001b[39mData written to CSV successfully.\u001b[39m\u001b[39m\"\u001b[39m)\n\u001b[1;32m     <a href='vscode-notebook-cell:/Users/scrosson/Documents/GitHub/GIS5572_S24/week6/activity6_2.ipynb#W1sZmlsZQ%3D%3D?line=34'>35</a>\u001b[0m time\u001b[39m.\u001b[39msleep(\u001b[39m5\u001b[39m)\n",
      "\u001b[1;32m/Users/scrosson/Documents/GitHub/GIS5572_S24/week6/activity6_2.ipynb Cell 3\u001b[0m line \u001b[0;36m1\n\u001b[1;32m     <a href='vscode-notebook-cell:/Users/scrosson/Documents/GitHub/GIS5572_S24/week6/activity6_2.ipynb#W1sZmlsZQ%3D%3D?line=13'>14</a>\u001b[0m \u001b[39mtry\u001b[39;00m:\n\u001b[1;32m     <a href='vscode-notebook-cell:/Users/scrosson/Documents/GitHub/GIS5572_S24/week6/activity6_2.ipynb#W1sZmlsZQ%3D%3D?line=14'>15</a>\u001b[0m     \u001b[39mwith\u001b[39;00m \u001b[39mopen\u001b[39m(csv_file, mode\u001b[39m=\u001b[39m\u001b[39m'\u001b[39m\u001b[39ma\u001b[39m\u001b[39m'\u001b[39m, newline\u001b[39m=\u001b[39m\u001b[39m'\u001b[39m\u001b[39m'\u001b[39m) \u001b[39mas\u001b[39;00m file:\n\u001b[0;32m---> <a href='vscode-notebook-cell:/Users/scrosson/Documents/GitHub/GIS5572_S24/week6/activity6_2.ipynb#W1sZmlsZQ%3D%3D?line=15'>16</a>\u001b[0m         writer \u001b[39m=\u001b[39m csv\u001b[39m.\u001b[39mDictWriter(file, fieldnames\u001b[39m=\u001b[39mdata[\u001b[39m0\u001b[39m]\u001b[39m.\u001b[39mkeys())\n\u001b[1;32m     <a href='vscode-notebook-cell:/Users/scrosson/Documents/GitHub/GIS5572_S24/week6/activity6_2.ipynb#W1sZmlsZQ%3D%3D?line=16'>17</a>\u001b[0m         \u001b[39m# Write header only if the file is empty\u001b[39;00m\n\u001b[1;32m     <a href='vscode-notebook-cell:/Users/scrosson/Documents/GitHub/GIS5572_S24/week6/activity6_2.ipynb#W1sZmlsZQ%3D%3D?line=17'>18</a>\u001b[0m         \u001b[39mif\u001b[39;00m file\u001b[39m.\u001b[39mtell() \u001b[39m==\u001b[39m \u001b[39m0\u001b[39m:\n",
      "\u001b[0;31mKeyError\u001b[0m: 0"
     ]
    }
   ],
   "source": [
    "\n",
    "def fetch_data_from_api(api_url):\n",
    "    try:\n",
    "        response = requests.get(api_url)\n",
    "        if response.status_code == 200:\n",
    "            return response.json()\n",
    "        else:\n",
    "            print(f\"Failed to fetch data from API. Status code: {response.status_code}\")\n",
    "            return None\n",
    "    except requests.exceptions.RequestException as e:\n",
    "        print(f\"Error fetching data: {e}\")\n",
    "        return None\n",
    "\n",
    "def write_data_to_csv(data, csv_file):\n",
    "    try:\n",
    "        with open(csv_file, mode='a', newline='') as file:\n",
    "            writer = csv.DictWriter(file, fieldnames=data[0].keys())\n",
    "            # Write header only if the file is empty\n",
    "            if file.tell() == 0:\n",
    "                writer.writeheader()\n",
    "            for row in data:\n",
    "                writer.writerow(row)\n",
    "    except IOError as e:\n",
    "        print(f\"Error writing to CSV: {e}\")\n",
    "\n",
    "# Example usage:\n",
    "if __name__ == \"__main__\":\n",
    "    api_url = \"https://qaqcmilktruck-qfcu3qoavq-uc.a.run.app/5572/milk_truck_sensor\"\n",
    "    csv_file = 'milkdata.csv'\n",
    "    \n",
    "    while True:\n",
    "        data = fetch_data_from_api(api_url)\n",
    "        if data:\n",
    "            write_data_to_csv(data, csv_file)\n",
    "            print(\"Data written to CSV successfully.\")\n",
    "        time.sleep(5)  # Fetch data every 5 seconds\n"
   ]
  }
 ],
 "metadata": {
  "kernelspec": {
   "display_name": "base",
   "language": "python",
   "name": "python3"
  },
  "language_info": {
   "codemirror_mode": {
    "name": "ipython",
    "version": 3
   },
   "file_extension": ".py",
   "mimetype": "text/x-python",
   "name": "python",
   "nbconvert_exporter": "python",
   "pygments_lexer": "ipython3",
   "version": "3.11.6"
  }
 },
 "nbformat": 4,
 "nbformat_minor": 2
}
