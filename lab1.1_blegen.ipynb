{
 "cells": [
  {
   "cell_type": "code",
   "execution_count": null,
   "metadata": {},
   "outputs": [],
   "source": []
  },
  {
   "cell_type": "markdown",
   "metadata": {},
   "source": [
    "## Lab 1-2, Part 2\n",
    "GIS 5572, February 15, 2024\n",
    "Shana Crosson"
   ]
  },
  {
   "cell_type": "code",
   "execution_count": 1,
   "metadata": {},
   "outputs": [],
   "source": [
    "import arcpy"
   ]
  },
  {
   "cell_type": "code",
   "execution_count": null,
   "metadata": {},
   "outputs": [],
   "source": [
    "# Order of operations!\n",
    "# 1. Create polygon, following activity from Feb 1 --  Create a list with points (type them each out)\n",
    "# 2. Convert to ArcPy Array\n",
    "# 3. Create polygon\n",
    "# 4. Create point geometry\n",
    "# 4. Convert to WKT\n",
    "# 5. attempt to import to the PostGIS db\n"
   ]
  },
  {
   "cell_type": "code",
   "execution_count": 27,
   "metadata": {},
   "outputs": [
    {
     "name": "stdout",
     "output_type": "stream",
     "text": [
      "<class 'list'>\n",
      "<geoprocessing array object object at 0x0000022918A9F3D0>\n",
      "<geoprocessing describe geometry object object at 0x000002290F6BCED0>\n"
     ]
    },
    {
     "ename": "NameError",
     "evalue": "name 'polygon' is not defined",
     "output_type": "error",
     "traceback": [
      "\u001b[0;31m---------------------------------------------------------------------------\u001b[0m\n\u001b[0;31mNameError\u001b[0m                                 Traceback (most recent call last)",
      "In  \u001b[0;34m[27]\u001b[0m:\nLine \u001b[0;34m21\u001b[0m:    \u001b[34mif\u001b[39;49;00m polygon.is_valid:\n",
      "\u001b[0;31mNameError\u001b[0m: name 'polygon' is not defined\n\u001b[0;31m---------------------------------------------------------------------------\u001b[0m"
     ]
    }
   ],
   "source": [
    "# create points for polygon\n",
    "\n",
    "a = arcpy.Point(-93.243462, 44.971507)\n",
    "b = arcpy.Point(-93.243455, 44.972170)\n",
    "c = arcpy.Point(-93.243180, 44.972169)\n",
    "d = arcpy.Point(-93.243177, 44.971513)\n",
    "\n",
    "pointlist = [a,b,c,d,a]\n",
    "\n",
    "print(type(pointlist))\n",
    "\n",
    "# Convert to an array\n",
    "array = arcpy.Array(pointlist)\n",
    "print(array)\n",
    "\n",
    "# Create a polygon\n",
    "square = arcpy.Polygon(array)\n",
    "print(square)\n",
    "\n",
    "# square.area\n",
    "if polygon.is_valid:\n",
    "    print(\"The coordinates form a valid polygon.\")\n",
    "else:\n",
    "    print(\"The coordinates do not form a valid polygon.\")\n",
    "\n",
    "# convert to SKT\n",
    "#squarewkt = (arcpy.Polygon(array).WKT)\n",
    "#print(squarewkt)"
   ]
  },
  {
   "cell_type": "code",
   "execution_count": 14,
   "metadata": {},
   "outputs": [
    {
     "name": "stdout",
     "output_type": "stream",
     "text": [
      "MULTIPOINT ((-93.243461999999994 44.971507000000003), (-93.243454999999997 44.972169999999998), (-93.243179999999995 44.972169000000001), (-93.243177000000003 44.971513000000002))\n"
     ]
    }
   ],
   "source": [
    "blegen = arcpy.Multipoint(array)\n",
    "blegenWKT = (arcpy.Multipoint(array).WKT)\n",
    "print(blegenWKT)"
   ]
  },
  {
   "cell_type": "code",
   "execution_count": 5,
   "metadata": {},
   "outputs": [
    {
     "name": "stdout",
     "output_type": "stream",
     "text": [
      "<geoprocessing describe geometry object object at 0x0000013E68DA2B10>\n"
     ]
    }
   ],
   "source": [
    "polyline = arcpy.Polyline(array)\n",
    "print(polyline)"
   ]
  },
  {
   "cell_type": "code",
   "execution_count": 29,
   "metadata": {},
   "outputs": [
    {
     "data": {
      "text/html": [
       "<div class='gpresult'><h2>Messages</h2><div id='messages' data-messages='[\"Start Time: Sunday, February 18, 2024 12:32:31 PM\",\"Succeeded at Sunday, February 18, 2024 12:32:58 PM (Elapsed Time: 27.17 seconds)\"]' data-show='true'><div id = 'default' /></div></div>"
      ],
      "text/plain": [
       "<Result 'Z:\\\\Helpdesk\\\\Shana\\\\GIS 5572\\\\GIS 5572_Feb1\\\\35.224.112.3.sde\\\\blegen'>"
      ]
     },
     "execution_count": 29,
     "metadata": {},
     "output_type": "execute_result"
    }
   ],
   "source": [
    "# Create a feature class in the PostGIS database expecting a polygon\n",
    "arcpy.management.CreateFeatureclass('35.224.112.3.sde','blegen', 'POLYGON')"
   ]
  },
  {
   "cell_type": "code",
   "execution_count": 30,
   "metadata": {},
   "outputs": [
    {
     "ename": "ValueError",
     "evalue": "invalid WKT data",
     "output_type": "error",
     "traceback": [
      "\u001b[0;31m---------------------------------------------------------------------------\u001b[0m\n\u001b[0;31mValueError\u001b[0m                                Traceback (most recent call last)",
      "In  \u001b[0;34m[30]\u001b[0m:\nLine \u001b[0;34m4\u001b[0m:     cursor.insertRow([blegenWKT])\n",
      "\u001b[0;31mValueError\u001b[0m: invalid WKT data\n\u001b[0;31m---------------------------------------------------------------------------\u001b[0m"
     ]
    }
   ],
   "source": [
    "# add my polygon to the Feature Class\n",
    "# Following this Esri documentation:https://pro.arcgis.com/en/pro-app/latest/arcpy/data-access/insertcursor-class.htm\n",
    "with arcpy.da.InsertCursor('35.224.112.3.sde\\labgis5572.postgres.blegen', ['SHAPE@WKT']) as cursor:\n",
    "    cursor.insertRow([blegenWKT])"
   ]
  },
  {
   "cell_type": "code",
   "execution_count": 4,
   "metadata": {},
   "outputs": [
    {
     "name": "stdout",
     "output_type": "stream",
     "text": [
      "44.971489 -93.243452 NaN NaN\n"
     ]
    }
   ],
   "source": [
    "print(f)"
   ]
  },
  {
   "cell_type": "code",
   "execution_count": 6,
   "metadata": {},
   "outputs": [
    {
     "data": {
      "image/svg+xml": [
       "<svg xmlns=\"http://www.w3.org/2000/svg\" xmlns:xlink=\"http://www.w3.org/1999/xlink\" width=\"100.0\" height=\"100.0\" viewBox=\"41.73182214999999 -96.4833105 6.480000000000004 6.47999999999999\" preserveAspectRatio=\"xMinYMin meet\"><g transform=\"matrix(1,0,0,-1,0,-186.486621)\"><path fill-rule=\"evenodd\" fill=\"#66cc99\" stroke=\"#555555\" stroke-width=\"0.12960000000000008\" opacity=\"0.6\" d=\" M 47.971822149999994,-93.2433105 L 47.9653989197158,-93.43951988769044 L 47.94615673412142,-93.63488907666016 L 47.914177991209684,-93.82858146604839 L 47.8695996288672,-94.01976763530757 L 47.81261253848531,-94.2076288959095 L 47.74346074753385,-94.39136079709527 L 47.662440374598056,-94.57017657065701 L 47.56989836135331,-94.7433105 L 47.46623098690763,-94.91002119905882 L 47.3518821708737,-95.06959478702616 L 47.22734157243693,-95.22134794530021 L 47.09314249355964,-95.36463084355965 L 46.949859595300204,-95.49882992243694 L 46.798106437026156,-95.6233705208737 L 46.6385328490588,-95.73771933690765 L 46.471822149999994,-95.84138671135332 L 46.298688220657,-95.93392872459808 L 46.11987244709526,-96.01494909753387 L 45.93614054590948,-96.08410088848532 L 45.748279285307554,-96.1410879788672 L 45.55709311604838,-96.1856663412097 L 45.363400726660146,-96.21764508412143 L 45.168031537690425,-96.23688726971581 L 44.971822149999994,-96.2433105 L 44.775612762309564,-96.23688726971582 L 44.58024357333984,-96.21764508412144 L 44.38655118395161,-96.1856663412097 L 44.195365014692435,-96.1410879788672 L 44.00750375409051,-96.08410088848532 L 43.82377185290473,-96.01494909753387 L 43.64495607934299,-95.93392872459808 L 43.471822149999994,-95.84138671135332 L 43.30511145094119,-95.73771933690765 L 43.14553786297383,-95.6233705208737 L 42.99378470469979,-95.49882992243694 L 42.85050180644035,-95.36463084355965 L 42.71630272756306,-95.22134794530021 L 42.59176212912629,-95.06959478702616 L 42.477413313092356,-94.91002119905882 L 42.37374593864668,-94.7433105 L 42.28120392540193,-94.57017657065701 L 42.200183552466136,-94.39136079709527 L 42.13103176151468,-94.2076288959095 L 42.07404467113279,-94.01976763530757 L 42.029466308790305,-93.82858146604839 L 41.997487565878565,-93.63488907666016 L 41.978245380284186,-93.43951988769044 L 41.971822149999994,-93.2433105 L 41.978245380284186,-93.04710111230958 L 41.997487565878565,-92.85173192333986 L 42.029466308790305,-92.65803953395162 L 42.07404467113279,-92.46685336469244 L 42.13103176151468,-92.27899210409052 L 42.200183552466136,-92.09526020290474 L 42.28120392540193,-91.916444429343 L 42.37374593864668,-91.7433105 L 42.477413313092356,-91.5765998009412 L 42.59176212912629,-91.41702621297385 L 42.71630272756306,-91.2652730546998 L 42.85050180644035,-91.12199015644036 L 42.993784704699785,-90.98779107756307 L 43.14553786297383,-90.86325047912631 L 43.30511145094119,-90.74890166309237 L 43.471822149999994,-90.64523428864669 L 43.64495607934299,-90.55269227540194 L 43.82377185290473,-90.47167190246614 L 44.00750375409051,-90.40252011151469 L 44.195365014692435,-90.34553302113281 L 44.38655118395161,-90.30095465879032 L 44.58024357333984,-90.26897591587858 L 44.775612762309564,-90.2497337302842 L 44.971822149999994,-90.2433105 L 45.168031537690425,-90.24973373028419 L 45.363400726660146,-90.26897591587857 L 45.55709311604838,-90.30095465879032 L 45.748279285307554,-90.34553302113281 L 45.93614054590948,-90.40252011151469 L 46.11987244709526,-90.47167190246614 L 46.298688220657,-90.55269227540194 L 46.471822149999994,-90.64523428864669 L 46.6385328490588,-90.74890166309237 L 46.798106437026156,-90.86325047912631 L 46.9498595953002,-90.98779107756307 L 47.09314249355964,-91.12199015644036 L 47.22734157243693,-91.2652730546998 L 47.3518821708737,-91.41702621297385 L 47.46623098690763,-91.5765998009412 L 47.56989836135331,-91.7433105 L 47.662440374598056,-91.916444429343 L 47.74346074753385,-92.09526020290474 L 47.81261253848531,-92.27899210409052 L 47.8695996288672,-92.46685336469244 L 47.914177991209684,-92.65803953395162 L 47.94615673412142,-92.85173192333986 L 47.9653989197158,-93.04710111230958 L 47.971822149999994,-93.2433105 z\" /></g></svg>"
      ],
      "text/plain": [
       "<Polygon object at 0x13e430f7c70[0x13e430f7f30]>"
      ]
     },
     "execution_count": 6,
     "metadata": {},
     "output_type": "execute_result"
    }
   ],
   "source": [
    "polyline.buffer(3)"
   ]
  },
  {
   "cell_type": "code",
   "execution_count": 28,
   "metadata": {},
   "outputs": [
    {
     "name": "stdout",
     "output_type": "stream",
     "text": [
      "MULTIPOLYGON EMPTY\n"
     ]
    },
    {
     "ename": "AttributeError",
     "evalue": "'Polygon' object has no attribute 'is_valid'",
     "output_type": "error",
     "traceback": [
      "\u001b[0;31m---------------------------------------------------------------------------\u001b[0m\n\u001b[0;31mAttributeError\u001b[0m                            Traceback (most recent call last)",
      "In  \u001b[0;34m[28]\u001b[0m:\nLine \u001b[0;34m6\u001b[0m:     \u001b[34mif\u001b[39;49;00m blegenbuilding.is_valid:\n",
      "\u001b[0;31mAttributeError\u001b[0m: 'Polygon' object has no attribute 'is_valid'\n\u001b[0;31m---------------------------------------------------------------------------\u001b[0m"
     ]
    }
   ],
   "source": [
    "blegenbuilding = arcpy.Polygon(array)\n",
    "# convert to SKT\n",
    "blegenbuildingWKT = (arcpy.Polygon(array).WKT)\n",
    "print(blegenbuildingWKT)\n",
    "\n",
    "if blegenbuilding.is_valid:\n",
    "    print(\"The coordinates form a valid polygon.\")\n",
    "else:\n",
    "    print(\"The coordinates do not form a valid polygon.\")"
   ]
  },
  {
   "cell_type": "code",
   "execution_count": null,
   "metadata": {},
   "outputs": [],
   "source": []
  }
 ],
 "metadata": {
  "kernelspec": {
   "display_name": "ArcGISPro",
   "language": "Python",
   "name": "python3"
  },
  "language_info": {
   "file_extension": ".py",
   "name": "python",
   "version": "3"
  }
 },
 "nbformat": 4,
 "nbformat_minor": 2
}
