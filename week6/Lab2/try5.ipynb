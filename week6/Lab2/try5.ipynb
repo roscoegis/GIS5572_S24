{
 "cells": [
  {
   "cell_type": "code",
   "execution_count": 2,
   "metadata": {},
   "outputs": [],
   "source": [
    "import csv\n",
    "import requests\n",
    "import json\n",
    "import time\n",
    "import pandas as pd"
   ]
  },
  {
   "cell_type": "code",
   "execution_count": 3,
   "metadata": {},
   "outputs": [],
   "source": [
    "# Define the URL and pull the data\n",
    "milktruck = \"https://qaqcmilktruck-qfcu3qoavq-uc.a.run.app/5572/milk_truck_sensor\"\n",
    "response = requests.get(milktruck)\n"
   ]
  },
  {
   "cell_type": "code",
   "execution_count": 4,
   "metadata": {},
   "outputs": [
    {
     "name": "stdout",
     "output_type": "stream",
     "text": [
      "Success\n",
      "{'lat': 47.817448995327666, 'lon': -93.87560897173313, 'current_time': '02/25/24:20:53:03', 'air_temperature': 33.080051660210295}\n"
     ]
    }
   ],
   "source": [
    "# check status of API call \n"
   ]
  },
  {
   "cell_type": "code",
   "execution_count": 10,
   "metadata": {},
   "outputs": [
    {
     "name": "stdout",
     "output_type": "stream",
     "text": [
      "Success\n",
      "{'lat': 47.610905315919524, 'lon': -91.10835620945846, 'current_time': '02/25/24:20:59:44', 'air_temperature': 18.66656513048298}\n"
     ]
    }
   ],
   "source": [
    "\n",
    "if response.status_code == 200:\n",
    "    info = response.json()\n",
    "    print(\"Success\")\n",
    "    print(info)"
   ]
  },
  {
   "cell_type": "code",
   "execution_count": 5,
   "metadata": {},
   "outputs": [
    {
     "name": "stdout",
     "output_type": "stream",
     "text": [
      "{'lat': 46.0779921919984, 'lon': -96.54958149101407, 'current_time': '02/25/24:21:19:07', 'air_temperature': 14.63391257904605}\n",
      "{'lat': 46.87929413770232, 'lon': -92.06421951953395, 'current_time': '02/25/24:21:19:13', 'air_temperature': 39.940791489865326}\n",
      "{'lat': 46.59389059146782, 'lon': -96.39061629321978, 'current_time': '02/25/24:21:19:18', 'air_temperature': 52.165178475011956}\n",
      "{'lat': 44.4108136334668, 'lon': -93.00465191070106, 'current_time': '02/25/24:21:19:23', 'air_temperature': 25.004373402347504}\n",
      "{'lat': 43.372070802656204, 'lon': -93.85996221616602, 'current_time': '01/21/29:15:11:12', 'air_temperature': 8.905838343577244}\n",
      "{'lat': 47.08345514348067, 'lon': -93.75747711435667, 'current_time': '02/25/24:21:19:33', 'air_temperature': 48.864250937127125}\n",
      "{'lat': 47.25970857108087, 'lon': -93.65369962672521, 'current_time': '02/25/24:21:19:38', 'air_temperature': 38.93303083710243}\n",
      "{'lat': 48.301706806376004, 'lon': -94.79582059455507, 'current_time': '02/25/24:21:19:43', 'air_temperature': 19.895837605333085}\n",
      "{'lat': 47.76894165523097, 'lon': -93.08972857948864, 'current_time': '02/25/24:21:19:49', 'air_temperature': 31.21720274702995}\n",
      "{'lat': 46.05273229991737, 'lon': -95.86244750721843, 'current_time': '02/25/24:21:19:54', 'air_temperature': 13.980577817452964}\n",
      "{'lat': 45.34879064198542, 'lon': -92.41587533925214, 'current_time': '02/25/24:21:19:59', 'air_temperature': 40.065236957384435}\n",
      "{'lat': 48.01578535718761, 'lon': -93.71168309444198, 'current_time': '02/25/24:21:20:04', 'air_temperature': 42.68869177393907}\n",
      "{'lat': 47.31260427112476, 'lon': -93.95432405736246, 'current_time': '02/25/24:21:20:09', 'air_temperature': 40.65696301769481}\n",
      "{'lat': 48.52731088201066, 'lon': -94.17747198190195, 'current_time': '02/25/24:21:20:14', 'air_temperature': 23.102803554193407}\n",
      "{'lat': 47.03019070417582, 'lon': -92.48819724079779, 'current_time': '02/25/24:21:20:19', 'air_temperature': 62.17718391232107}\n",
      "{'lat': 46.83057472454918, 'lon': -95.37672788295467, 'current_time': '02/25/24:21:20:25', 'air_temperature': 30.464341995247402}\n",
      "Exiting\n"
     ]
    },
    {
     "ename": "",
     "evalue": "",
     "output_type": "error",
     "traceback": [
      "\u001b[1;31mThe Kernel crashed while executing code in the the current cell or a previous cell. Please review the code in the cell(s) to identify a possible cause of the failure. Click <a href='https://aka.ms/vscodeJupyterKernelCrash'>here</a> for more info. View Jupyter <a href='command:jupyter.viewOutput'>log</a> for further details."
     ]
    }
   ],
   "source": [
    "# Bring in data\n",
    "\n",
    "try:\n",
    "    while True:\n",
    "        response = requests.get(milktruck)\n",
    "        print(response.json()) \n",
    "        time.sleep(5)\n",
    "\n",
    "except KeyboardInterrupt:\n",
    "    print(\"Exiting\")\n",
    "    exit(0)\n"
   ]
  },
  {
   "cell_type": "code",
   "execution_count": null,
   "metadata": {},
   "outputs": [],
   "source": [
    "   # Bring in the data and convert to a dataframe data = info['data']\n",
    "    df = pd.DataFrame(response.json())\n",
    "   \n",
    "\n"
   ]
  },
  {
   "cell_type": "code",
   "execution_count": null,
   "metadata": {},
   "outputs": [],
   "source": [
    "if response.status_code == 200:\n",
    "    for i in range(1, 100):\n",
    "        response = requests.get(milktruck)\n",
    "        temp_df = pd.DataFrame(response.json()) ['latitude', 'longitude', 'time', 'temp'] \n",
    "        #df = df.append(temp_df, ignore_index=True)  "
   ]
  }
 ],
 "metadata": {
  "kernelspec": {
   "display_name": "base",
   "language": "python",
   "name": "python3"
  },
  "language_info": {
   "codemirror_mode": {
    "name": "ipython",
    "version": 3
   },
   "file_extension": ".py",
   "mimetype": "text/x-python",
   "name": "python",
   "nbconvert_exporter": "python",
   "pygments_lexer": "ipython3",
   "version": "3.11.6"
  }
 },
 "nbformat": 4,
 "nbformat_minor": 2
}
