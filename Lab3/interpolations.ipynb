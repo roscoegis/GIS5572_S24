{
 "cells": [
  {
   "cell_type": "markdown",
   "metadata": {},
   "source": [
    "## GIS 5572 Lab 3 Notebook 2\n",
    "Working from temperature data from Notebook 1, this notebok will do the interpolations\n"
   ]
  },
  {
   "cell_type": "code",
   "execution_count": 12,
   "metadata": {},
   "outputs": [],
   "source": [
    "import arcpy\n",
    "import requests\n",
    "import json"
   ]
  },
  {
   "cell_type": "code",
   "execution_count": 13,
   "metadata": {},
   "outputs": [],
   "source": [
    "arcpy.env.workspace = r'Z:\\Helpdesk\\Shana\\GIS 5572\\5572Lab3'"
   ]
  },
  {
   "cell_type": "markdown",
   "metadata": {},
   "source": [
    "## Comment on workspace\n",
    "I tried to have the workspace be the sde database, but that seems to make Pro very unhappy..."
   ]
  },
  {
   "cell_type": "code",
   "execution_count": 3,
   "metadata": {},
   "outputs": [],
   "source": [
    "# reference the existing database created in the first notebook\n",
    "weatherdata = r'Z:\\\\Helpdesk\\\\Shana\\\\GIS 5572\\\\5572Lab3\\\\35.224.112.3.sde\\\\labgis5572.postgres.weatherfebruary_test'"
   ]
  },
  {
   "cell_type": "markdown",
   "metadata": {},
   "source": [
    "## Reproject Data"
   ]
  },
  {
   "cell_type": "code",
   "execution_count": 4,
   "metadata": {},
   "outputs": [
    {
     "ename": "ExecuteError",
     "evalue": "ERROR 000622: Failed to execute (Project). Parameters are not valid.\nERROR 000628: Cannot set input into parameter out_coor_system.\n",
     "output_type": "error",
     "traceback": [
      "\u001b[0;31m---------------------------------------------------------------------------\u001b[0m\n\u001b[0;31mExecuteError\u001b[0m                              Traceback (most recent call last)",
      "In  \u001b[0;34m[4]\u001b[0m:\nLine \u001b[0;34m4\u001b[0m:     arcpy.management.Project(in_dataset, out_dataset, out_coor_system)\n",
      "File \u001b[0;34mC:\\Program Files\\ArcGIS\\Pro\\Resources\\ArcPy\\arcpy\\management.py\u001b[0m, in \u001b[0;32mProject\u001b[0m:\nLine \u001b[0;34m14379\u001b[0m: \u001b[34mraise\u001b[39;49;00m e\n",
      "File \u001b[0;34mC:\\Program Files\\ArcGIS\\Pro\\Resources\\ArcPy\\arcpy\\management.py\u001b[0m, in \u001b[0;32mProject\u001b[0m:\nLine \u001b[0;34m14376\u001b[0m: retval = convertArcObjectToPythonObject(gp.Project_management(*gp_fixargs((in_dataset, out_dataset, out_coor_system, transform_method, in_coor_system, preserve_shape, max_deviation, vertical), \u001b[34mTrue\u001b[39;49;00m)))\n",
      "File \u001b[0;34mC:\\Program Files\\ArcGIS\\Pro\\Resources\\ArcPy\\arcpy\\geoprocessing\\_base.py\u001b[0m, in \u001b[0;32m<lambda>\u001b[0m:\nLine \u001b[0;34m512\u001b[0m:   \u001b[34mreturn\u001b[39;49;00m \u001b[34mlambda\u001b[39;49;00m *args: val(*gp_fixargs(args, \u001b[34mTrue\u001b[39;49;00m))\n",
      "\u001b[0;31mExecuteError\u001b[0m: ERROR 000622: Failed to execute (Project). Parameters are not valid.\nERROR 000628: Cannot set input into parameter out_coor_system.\n\n\u001b[0;31m---------------------------------------------------------------------------\u001b[0m"
     ]
    }
   ],
   "source": [
    "# This code did not work. It also did not work to run it in the Geoprocessing tool but it appears to have run in the code below? \n",
    "in_dataset = \"weatherdata\"\n",
    "out_dataset = \"weatherdata_projected\"\n",
    "out_coor_system = 'WGS_1984_UTM_Zone_15N'\n",
    "arcpy.management.Project(in_dataset, out_dataset, out_coor_system)"
   ]
  },
  {
   "cell_type": "code",
   "execution_count": 1,
   "metadata": {},
   "outputs": [
    {
     "data": {
      "text/html": [
       "<div class='gpresult'><h2>Messages</h2><div id='messages' data-messages='[\"Start Time: Tuesday, March 26, 2024 1:08:16 PM\",\"Succeeded at Tuesday, March 26, 2024 1:08:23 PM (Elapsed Time: 7.62 seconds)\"]' data-show='true'><div id = 'default' /></div></div>"
      ],
      "text/plain": [
       "<Result 'Z:\\\\Helpdesk\\\\Shana\\\\GIS 5572\\\\5572Lab3\\\\5572Lab3.gdb\\\\projected'>"
      ]
     },
     "execution_count": 1,
     "metadata": {},
     "output_type": "execute_result"
    }
   ],
   "source": [
    "# Why this seems to have run, I do not understand, except it wrote it to the Project folder instead of the Postgres database. Hmmmmm. \n",
    "arcpy.management.Project(\"Z:\\\\Helpdesk\\\\Shana\\\\GIS 5572\\\\5572Lab3\\\\35.224.112.3.sde\\\\labgis5572.postgres.weatherfebruary_test\", \"projected\", '32615')"
   ]
  },
  {
   "cell_type": "code",
   "execution_count": 2,
   "metadata": {},
   "outputs": [
    {
     "ename": "ExecuteError",
     "evalue": "ERROR 000210: Cannot create output Z:\\Helpdesk\\Shana\\GIS 5572\\5572Lab3\\35.224.112.3.sde\\labgis5572.postgres.projected\nFailed to execute (Project).\n",
     "output_type": "error",
     "traceback": [
      "\u001b[0;31m---------------------------------------------------------------------------\u001b[0m\n\u001b[0;31mExecuteError\u001b[0m                              Traceback (most recent call last)",
      "In  \u001b[0;34m[2]\u001b[0m:\nLine \u001b[0;34m1\u001b[0m:     arcpy.management.Project(\u001b[33m\"\u001b[39;49;00m\u001b[33mZ:\u001b[39;49;00m\u001b[33m\\\\\u001b[39;49;00m\u001b[33mHelpdesk\u001b[39;49;00m\u001b[33m\\\\\u001b[39;49;00m\u001b[33mShana\u001b[39;49;00m\u001b[33m\\\\\u001b[39;49;00m\u001b[33mGIS 5572\u001b[39;49;00m\u001b[33m\\\\\u001b[39;49;00m\u001b[33m5572Lab3\u001b[39;49;00m\u001b[33m\\\\\u001b[39;49;00m\u001b[33m35.224.112.3.sde\u001b[39;49;00m\u001b[33m\\\\\u001b[39;49;00m\u001b[33mlabgis5572.postgres.weatherfebruary_test\u001b[39;49;00m\u001b[33m\"\u001b[39;49;00m, \u001b[33m\"\u001b[39;49;00m\u001b[33mZ:\u001b[39;49;00m\u001b[33m\\\\\u001b[39;49;00m\u001b[33mHelpdesk\u001b[39;49;00m\u001b[33m\\\\\u001b[39;49;00m\u001b[33mShana\u001b[39;49;00m\u001b[33m\\\\\u001b[39;49;00m\u001b[33mGIS 5572\u001b[39;49;00m\u001b[33m\\\\\u001b[39;49;00m\u001b[33m5572Lab3\u001b[39;49;00m\u001b[33m\\\\\u001b[39;49;00m\u001b[33m35.224.112.3.sde\u001b[39;49;00m\u001b[33m\\\\\u001b[39;49;00m\u001b[33mlabgis5572.postgres.projected\u001b[39;49;00m\u001b[33m\"\u001b[39;49;00m, \u001b[33m'\u001b[39;49;00m\u001b[33m32615\u001b[39;49;00m\u001b[33m'\u001b[39;49;00m)\n",
      "File \u001b[0;34mC:\\Program Files\\ArcGIS\\Pro\\Resources\\ArcPy\\arcpy\\management.py\u001b[0m, in \u001b[0;32mProject\u001b[0m:\nLine \u001b[0;34m14379\u001b[0m: \u001b[34mraise\u001b[39;49;00m e\n",
      "File \u001b[0;34mC:\\Program Files\\ArcGIS\\Pro\\Resources\\ArcPy\\arcpy\\management.py\u001b[0m, in \u001b[0;32mProject\u001b[0m:\nLine \u001b[0;34m14376\u001b[0m: retval = convertArcObjectToPythonObject(gp.Project_management(*gp_fixargs((in_dataset, out_dataset, out_coor_system, transform_method, in_coor_system, preserve_shape, max_deviation, vertical), \u001b[34mTrue\u001b[39;49;00m)))\n",
      "File \u001b[0;34mC:\\Program Files\\ArcGIS\\Pro\\Resources\\ArcPy\\arcpy\\geoprocessing\\_base.py\u001b[0m, in \u001b[0;32m<lambda>\u001b[0m:\nLine \u001b[0;34m512\u001b[0m:   \u001b[34mreturn\u001b[39;49;00m \u001b[34mlambda\u001b[39;49;00m *args: val(*gp_fixargs(args, \u001b[34mTrue\u001b[39;49;00m))\n",
      "\u001b[0;31mExecuteError\u001b[0m: ERROR 000210: Cannot create output Z:\\Helpdesk\\Shana\\GIS 5572\\5572Lab3\\35.224.112.3.sde\\labgis5572.postgres.projected\nFailed to execute (Project).\n\n\u001b[0;31m---------------------------------------------------------------------------\u001b[0m"
     ]
    }
   ],
   "source": [
    "# This clarifies that it isn't writing to the Postgres database. I'm going to continue with the interpolations and then see if I can write those to the postgres db later\n",
    "arcpy.management.Project(\"Z:\\\\Helpdesk\\\\Shana\\\\GIS 5572\\\\5572Lab3\\\\35.224.112.3.sde\\\\labgis5572.postgres.weatherfebruary_test\", \"Z:\\\\Helpdesk\\\\Shana\\\\GIS 5572\\\\5572Lab3\\\\35.224.112.3.sde\\\\labgis5572.postgres.projected\", '32615')"
   ]
  },
  {
   "cell_type": "markdown",
   "metadata": {},
   "source": [
    "## Interpolation"
   ]
  },
  {
   "cell_type": "code",
   "execution_count": 3,
   "metadata": {},
   "outputs": [
    {
     "data": {
      "text/html": [
       "<div class='gpresult'><h2>Messages</h2><div id='messages' data-messages='[\"Start Time: Tuesday, March 26, 2024 1:25:13 PM\",\"Succeeded at Tuesday, March 26, 2024 1:25:20 PM (Elapsed Time: 7.59 seconds)\"]' data-show='true'><div id = 'default' /></div></div>"
      ],
      "text/plain": [
       "<Result 'idw_stats'>"
      ]
     },
     "execution_count": 3,
     "metadata": {},
     "output_type": "execute_result"
    }
   ],
   "source": [
    "# Testing with IDW. \n",
    "arcpy.ga.IDW('labgis5572.postgres.weatherfebruary_test', 'max_tmpf', 'idw_stats',  )\n",
    "\n",
    "# This seemed to work. "
   ]
  },
  {
   "cell_type": "markdown",
   "metadata": {},
   "source": [
    "## Cross Validation on the IDW\n",
    "Let's try doing the Cross Validation to test it..."
   ]
  },
  {
   "cell_type": "code",
   "execution_count": 4,
   "metadata": {
    "scrolled": true
   },
   "outputs": [
    {
     "data": {
      "text/html": [
       "<div class='gpresult'><h2>Messages</h2><div id='messages' data-messages='[\"Start Time: Wednesday, March 27, 2024 11:45:03 AM\",\"Count = 163\",\"Mean error = 0.0894372048773754\",\"Root mean square = 1.2401417972394464\",\"Average standard = NaN\",\"Mean standardized = NaN\",\"Root mean square standardized = NaN\",\"Percent in 90% Interval = NaN\",\"Percent in 95% Interval = NaN\",\"Average CRPS = NaN\",\"Succeeded at Wednesday, March 27, 2024 11:45:13 AM (Elapsed Time: 10.29 seconds)\"]' data-show='true'><div id = 'default' /></div></div>"
      ],
      "text/plain": [
       "<Result 'Z:\\\\Helpdesk\\\\Shana\\\\GIS 5572\\\\5572Lab3\\\\idw_max_validation.shp'>"
      ]
     },
     "execution_count": 4,
     "metadata": {},
     "output_type": "execute_result"
    }
   ],
   "source": [
    "in_geostat_layer = \"idw_stats\"\n",
    "out_point_feature_class = 'idw_max_validation'\n",
    "arcpy.ga.CrossValidation(in_geostat_layer, out_point_feature_class)"
   ]
  },
  {
   "cell_type": "code",
   "execution_count": 5,
   "metadata": {},
   "outputs": [
    {
     "data": {
      "text/html": [
       "<div class='gpresult'><h2>Messages</h2><div id='messages' data-messages='[\"Start Time: Wednesday, March 27, 2024 12:08:59 PM\",\"Count = 163\",\"Mean error = 0.0894372048773754\",\"Root mean square = 1.2401417972394464\",\"Average standard = NaN\",\"Mean standardized = NaN\",\"Root mean square standardized = NaN\",\"Percent in 90% Interval = NaN\",\"Percent in 95% Interval = NaN\",\"Average CRPS = NaN\",\"Succeeded at Wednesday, March 27, 2024 12:09:07 PM (Elapsed Time: 7.69 seconds)\"]' data-show='true'><div id = 'default' /></div></div>"
      ],
      "text/plain": [
       "<Result 'Z:\\\\Helpdesk\\\\Shana\\\\GIS 5572\\\\5572Lab3\\\\idw_max_validation1.shp'>"
      ]
     },
     "execution_count": 5,
     "metadata": {},
     "output_type": "execute_result"
    }
   ],
   "source": [
    "# After reading this documentation, I ran with the Geospatial Wizard to see what would happen\n",
    "## https://pro.arcgis.com/en/pro-app/3.1/help/analysis/geostatistical-analyst/performing-cross-validation-and-validation.htm\n",
    "\n",
    "arcpy.ga.CrossValidation(\n",
    "    in_geostat_layer=\"idw_stats\",\n",
    "    out_point_feature_class=r\"Z:\\Helpdesk\\Shana\\GIS 5572\\5572Lab3\\idw_max_validation1.shp\"\n",
    ")\n",
    "\n"
   ]
  },
  {
   "cell_type": "markdown",
   "metadata": {},
   "source": [
    "# Empirical Bayesian Kriging"
   ]
  },
  {
   "cell_type": "code",
   "execution_count": 7,
   "metadata": {},
   "outputs": [
    {
     "data": {
      "text/html": [
       "<div class='gpresult'><h2>Messages</h2><div id='messages' data-messages='[\"Start Time: Wednesday, March 27, 2024 12:16:04 PM\",\"\\r\\nWarning(s) for dataset: projected\",\"WARNING 040402: NODATA value ignored. ObjectID = 356\",\"WARNING 040402: NODATA value ignored. ObjectID = 519\",\"WARNING 040402: NODATA value ignored. ObjectID = 2779\",\"WARNING 040402: NODATA value ignored. ObjectID = 2942\",\"Succeeded at Wednesday, March 27, 2024 12:16:05 PM (Elapsed Time: 0.84 seconds)\"]' data-show='true'><div id = 'default' /></div></div>"
      ],
      "text/plain": [
       "<Result 'max_kriging'>"
      ]
     },
     "execution_count": 7,
     "metadata": {},
     "output_type": "execute_result"
    }
   ],
   "source": [
    "arcpy.ga.EmpiricalBayesianKriging('projected', 'max_tmpf', 'max_kriging')"
   ]
  },
  {
   "cell_type": "code",
   "execution_count": null,
   "metadata": {},
   "outputs": [],
   "source": [
    "# Then ran it in the Geoprocessing tool just to see what it added. The results seem the same.\n",
    "\n",
    "arcpy.ga.EmpiricalBayesianKriging(\n",
    "    in_features=\"projected\",\n",
    "    z_field=\"max_tmpf\",\n",
    "    out_ga_layer=\"kriging\",\n",
    "    out_raster=r\"Z:\\Helpdesk\\Shana\\GIS 5572\\5572Lab3\\5572Lab3.gdb\\kriging_raster\",\n",
    "    cell_size=2219.3966124,\n",
    "    transformation_type=\"NONE\",\n",
    "    max_local_points=100,\n",
    "    overlap_factor=1,\n",
    "    number_semivariograms=100,\n",
    "    search_neighborhood=\"NBRTYPE=StandardCircular RADIUS=207149.470159255 ANGLE=0 NBR_MAX=15 NBR_MIN=10 SECTOR_TYPE=ONE_SECTOR\",\n",
    "    output_type=\"PREDICTION\",\n",
    "    quantile_value=0.5,\n",
    "    threshold_type=\"EXCEED\",\n",
    "    probability_threshold=None,\n",
    "    semivariogram_model_type=\"POWER\"\n",
    ")"
   ]
  },
  {
   "cell_type": "code",
   "execution_count": 9,
   "metadata": {},
   "outputs": [
    {
     "data": {
      "text/html": [
       "<div class='gpresult'><h2>Messages</h2><div id='messages' data-messages='[\"Start Time: Wednesday, March 27, 2024 12:22:02 PM\",\"Count = 163\",\"Mean error = 0.021625317585122195\",\"Root mean square = 1.188640879272484\",\"Average standard = 1.2570171507043995\",\"Mean standardized = 0.020685261149278204\",\"Root mean square standardized = 0.9519251485167977\",\"Percent in 90% Interval = 92.02453987730061\",\"Percent in 95% Interval = 96.31901840490798\",\"Average CRPS = 0.6226286660145187\",\"Succeeded at Wednesday, March 27, 2024 12:22:08 PM (Elapsed Time: 5.62 seconds)\"]' data-show='true'><div id = 'default' /></div></div>"
      ],
      "text/plain": [
       "<Result 'Z:\\\\Helpdesk\\\\Shana\\\\GIS 5572\\\\5572Lab3\\\\kriging_validation.shp'>"
      ]
     },
     "execution_count": 9,
     "metadata": {},
     "output_type": "execute_result"
    }
   ],
   "source": [
    "in_geostat_layer = \"kriging\"\n",
    "out_point_feature_class = 'kriging_validation'\n",
    "arcpy.ga.CrossValidation(in_geostat_layer, out_point_feature_class)"
   ]
  },
  {
   "cell_type": "markdown",
   "metadata": {},
   "source": [
    "## Try the Exploratory Interpolation Tool\n",
    "\n",
    "https://pro.arcgis.com/en/pro-app/latest/tool-reference/geostatistical-analyst/exploratory-interpolation.htm"
   ]
  },
  {
   "cell_type": "code",
   "execution_count": 14,
   "metadata": {},
   "outputs": [
    {
     "data": {
      "text/html": [
       "<div class='gpresult'><h2>Messages</h2><div id='messages' data-messages='[\"Start Time: Wednesday, March 27, 2024 1:28:22 PM\",\"Calculating Simple Kriging – Default\",\"\\r\\nWarning(s) for dataset: projected\",\"WARNING 040402: NODATA value ignored. ObjectID = 356\",\"WARNING 040402: NODATA value ignored. ObjectID = 519\",\"WARNING 040402: NODATA value ignored. ObjectID = 2779\",\"WARNING 040402: NODATA value ignored. ObjectID = 2942\",\"Calculating Simple Kriging – Optimized\",\"\\r\\nWarning(s) for dataset: projected\",\"WARNING 040402: NODATA value ignored. ObjectID = 356\",\"WARNING 040402: NODATA value ignored. ObjectID = 519\",\"WARNING 040402: NODATA value ignored. ObjectID = 2779\",\"WARNING 040402: NODATA value ignored. ObjectID = 2942\",\"Calculating Simple Kriging – Trend\",\"\\r\\nWarning(s) for dataset: projected\",\"WARNING 040402: NODATA value ignored. ObjectID = 356\",\"WARNING 040402: NODATA value ignored. ObjectID = 519\",\"WARNING 040402: NODATA value ignored. ObjectID = 2779\",\"WARNING 040402: NODATA value ignored. ObjectID = 2942\",\"Calculating Simple Kriging – Trend and transformation\",\"\\r\\nWarning(s) for dataset: projected\",\"WARNING 040402: NODATA value ignored. ObjectID = 356\",\"WARNING 040402: NODATA value ignored. ObjectID = 519\",\"WARNING 040402: NODATA value ignored. ObjectID = 2779\",\"WARNING 040402: NODATA value ignored. ObjectID = 2942\",\"Calculating Universal Kriging – Default\",\"\\r\\nWarning(s) for dataset: projected\",\"WARNING 040402: NODATA value ignored. ObjectID = 356\",\"WARNING 040402: NODATA value ignored. ObjectID = 519\",\"WARNING 040402: NODATA value ignored. ObjectID = 2779\",\"WARNING 040402: NODATA value ignored. ObjectID = 2942\",\"Calculating Universal Kriging – Optimized\",\"\\r\\nWarning(s) for dataset: projected\",\"WARNING 040402: NODATA value ignored. ObjectID = 356\",\"WARNING 040402: NODATA value ignored. ObjectID = 519\",\"WARNING 040402: NODATA value ignored. ObjectID = 2779\",\"WARNING 040402: NODATA value ignored. ObjectID = 2942\",\"Calculating Empirical Bayesian Kriging - Default\",\"\\r\\nWarning(s) for dataset: projected\",\"WARNING 040402: NODATA value ignored. ObjectID = 356\",\"WARNING 040402: NODATA value ignored. ObjectID = 519\",\"WARNING 040402: NODATA value ignored. ObjectID = 2779\",\"WARNING 040402: NODATA value ignored. ObjectID = 2942\",\"Calculating Empirical Bayesian Kriging - Advanced\",\"\\r\\nWarning(s) for dataset: projected\",\"WARNING 040402: NODATA value ignored. ObjectID = 356\",\"WARNING 040402: NODATA value ignored. ObjectID = 519\",\"WARNING 040402: NODATA value ignored. ObjectID = 2779\",\"WARNING 040402: NODATA value ignored. ObjectID = 2942\",\"\\r\\nWarning(s) for dataset: projected\",\"WARNING 040402: NODATA value ignored. ObjectID = 356\",\"WARNING 040402: NODATA value ignored. ObjectID = 519\",\"WARNING 040402: NODATA value ignored. ObjectID = 2779\",\"WARNING 040402: NODATA value ignored. ObjectID = 2942\",\" \\n\",\"------------------------------------------------\",\"RANK | NAME\",\"------------------------------------------------\",\"\\n\",\"1    | Simple Kriging – Trend and transformation\",\"\\n\",\"2    | Universal Kriging – Optimized\",\"\\n\",\"2    | Simple Kriging – Trend\",\"\\n\",\"2    | Empirical Bayesian Kriging - Advanced\",\"\\n\",\"2    | Universal Kriging – Default\",\"\\n\",\"2    | Empirical Bayesian Kriging - Default\",\"\\n\",\"2    | Simple Kriging – Optimized\",\"\\n\",\"2    | Simple Kriging – Default\",\"------------------------------------------------\",\"Succeeded at Wednesday, March 27, 2024 1:28:44 PM (Elapsed Time: 21.06 seconds)\"]' data-show='true'><div id = 'default' /></div></div>"
      ],
      "text/plain": [
       "<Result '5572Lab3.gdb\\\\explortable'>"
      ]
     },
     "execution_count": 14,
     "metadata": {},
     "output_type": "execute_result"
    }
   ],
   "source": [
    "## Starting with the code from the page above, editing it of course to meet what I want\n",
    "\n",
    "# Interpolate points using Simple Kriging, Universal Kriging, and EBK\n",
    "# Rank results by highest prediction accuracy\n",
    "# Exclude results with error reductions under 25%\n",
    "\n",
    "inPoints = \"projected\"\n",
    "inField = \"max_tmpf\"\n",
    "outTable = \"5572Lab3.gdb\\explortable\"\n",
    "outGALayer = \"Results\"\n",
    "interpMethods = [\"SIMPLE_KRIGING\", \"UNIVERSAL_KRIGING\", \"EBK\"]\n",
    "compMethod = \"SORTING\"\n",
    "criterion = \"ACCURACY\"\n",
    "exclCrit = [[\"MIN_PERC_ERROR\", 25]]\n",
    "arcpy.ga.ExploratoryInterpolation(inPoints, inField, outTable, outGALayer,\n",
    "         interpMethods, compMethod, criterion, None, None, exclCrit)"
   ]
  },
  {
   "cell_type": "code",
   "execution_count": 15,
   "metadata": {},
   "outputs": [
    {
     "data": {
      "text/html": [
       "<div class='gpresult'><h2>Messages</h2><div id='messages' data-messages='[\"Start Time: Wednesday, March 27, 2024 1:49:09 PM\",\"Calculating Simple Kriging – Default\",\"\\r\\nWarning(s) for dataset: projected\",\"WARNING 040402: NODATA value ignored. ObjectID = 356\",\"WARNING 040402: NODATA value ignored. ObjectID = 519\",\"WARNING 040402: NODATA value ignored. ObjectID = 2779\",\"WARNING 040402: NODATA value ignored. ObjectID = 2942\",\"Calculating Simple Kriging – Optimized\",\"\\r\\nWarning(s) for dataset: projected\",\"WARNING 040402: NODATA value ignored. ObjectID = 356\",\"WARNING 040402: NODATA value ignored. ObjectID = 519\",\"WARNING 040402: NODATA value ignored. ObjectID = 2779\",\"WARNING 040402: NODATA value ignored. ObjectID = 2942\",\"Calculating Simple Kriging – Trend\",\"\\r\\nWarning(s) for dataset: projected\",\"WARNING 040402: NODATA value ignored. ObjectID = 356\",\"WARNING 040402: NODATA value ignored. ObjectID = 519\",\"WARNING 040402: NODATA value ignored. ObjectID = 2779\",\"WARNING 040402: NODATA value ignored. ObjectID = 2942\",\"Calculating Simple Kriging – Trend and transformation\",\"\\r\\nWarning(s) for dataset: projected\",\"WARNING 040402: NODATA value ignored. ObjectID = 356\",\"WARNING 040402: NODATA value ignored. ObjectID = 519\",\"WARNING 040402: NODATA value ignored. ObjectID = 2779\",\"WARNING 040402: NODATA value ignored. ObjectID = 2942\",\"Calculating Universal Kriging – Default\",\"\\r\\nWarning(s) for dataset: projected\",\"WARNING 040402: NODATA value ignored. ObjectID = 356\",\"WARNING 040402: NODATA value ignored. ObjectID = 519\",\"WARNING 040402: NODATA value ignored. ObjectID = 2779\",\"WARNING 040402: NODATA value ignored. ObjectID = 2942\",\"Calculating Universal Kriging – Optimized\",\"\\r\\nWarning(s) for dataset: projected\",\"WARNING 040402: NODATA value ignored. ObjectID = 356\",\"WARNING 040402: NODATA value ignored. ObjectID = 519\",\"WARNING 040402: NODATA value ignored. ObjectID = 2779\",\"WARNING 040402: NODATA value ignored. ObjectID = 2942\",\"Calculating Empirical Bayesian Kriging - Default\",\"\\r\\nWarning(s) for dataset: projected\",\"WARNING 040402: NODATA value ignored. ObjectID = 356\",\"WARNING 040402: NODATA value ignored. ObjectID = 519\",\"WARNING 040402: NODATA value ignored. ObjectID = 2779\",\"WARNING 040402: NODATA value ignored. ObjectID = 2942\",\"Calculating Empirical Bayesian Kriging - Advanced\",\"\\r\\nWarning(s) for dataset: projected\",\"WARNING 040402: NODATA value ignored. ObjectID = 356\",\"WARNING 040402: NODATA value ignored. ObjectID = 519\",\"WARNING 040402: NODATA value ignored. ObjectID = 2779\",\"WARNING 040402: NODATA value ignored. ObjectID = 2942\",\"Calculating Inverse Distance Weighted - Default\",\"\\r\\nWarning(s) for dataset: projected\",\"WARNING 040402: NODATA value ignored. ObjectID = 356\",\"WARNING 040402: NODATA value ignored. ObjectID = 519\",\"WARNING 040402: NODATA value ignored. ObjectID = 2779\",\"WARNING 040402: NODATA value ignored. ObjectID = 2942\",\"Calculating Inverse Distance Weighted - Optimized\",\"\\r\\nWarning(s) for dataset: projected\",\"WARNING 040402: NODATA value ignored. ObjectID = 356\",\"WARNING 040402: NODATA value ignored. ObjectID = 519\",\"WARNING 040402: NODATA value ignored. ObjectID = 2779\",\"WARNING 040402: NODATA value ignored. ObjectID = 2942\",\"\\r\\nWarning(s) for dataset: projected\",\"WARNING 040402: NODATA value ignored. ObjectID = 356\",\"WARNING 040402: NODATA value ignored. ObjectID = 519\",\"WARNING 040402: NODATA value ignored. ObjectID = 2779\",\"WARNING 040402: NODATA value ignored. ObjectID = 2942\",\" \\n\",\"------------------------------------------------\",\"RANK | NAME\",\"------------------------------------------------\",\"\\n\",\"1    | Simple Kriging – Trend and transformation\",\"\\n\",\"2    | Universal Kriging – Optimized\",\"\\n\",\"2    | Simple Kriging – Trend\",\"\\n\",\"2    | Empirical Bayesian Kriging - Advanced\",\"\\n\",\"2    | Universal Kriging – Default\",\"\\n\",\"2    | Empirical Bayesian Kriging - Default\",\"\\n\",\"2    | Inverse Distance Weighted - Optimized\",\"\\n\",\"2    | Inverse Distance Weighted - Default\",\"\\n\",\"2    | Simple Kriging – Optimized\",\"\\n\",\"2    | Simple Kriging – Default\",\"------------------------------------------------\",\"Succeeded at Wednesday, March 27, 2024 1:49:24 PM (Elapsed Time: 15.86 seconds)\"]' data-show='true'><div id = 'default' /></div></div>"
      ],
      "text/plain": [
       "<Result '35.224.112.3.sde\\\\labgis5572.postgres.explortable1'>"
      ]
     },
     "execution_count": 15,
     "metadata": {},
     "output_type": "execute_result"
    }
   ],
   "source": [
    "## Try again with the same analysis, but this time save in the .sde database\n",
    "\n",
    "inPoints = \"projected\"\n",
    "inField = \"max_tmpf\"\n",
    "outTable = \"35.224.112.3.sde\\explortable1\"\n",
    "outGALayer = \"35.224.112.3.sde\\Results1\"\n",
    "interpMethods = [\"SIMPLE_KRIGING\", \"UNIVERSAL_KRIGING\", \"EBK\", \"IDW\"]\n",
    "compMethod = \"SORTING\"\n",
    "criterion = \"ACCURACY\"\n",
    "exclCrit = [[\"MIN_PERC_ERROR\", 25]]\n",
    "arcpy.ga.ExploratoryInterpolation(inPoints, inField, outTable, outGALayer,\n",
    "         interpMethods, compMethod, criterion, None, None, exclCrit)"
   ]
  },
  {
   "cell_type": "code",
   "execution_count": null,
   "metadata": {},
   "outputs": [],
   "source": []
  }
 ],
 "metadata": {
  "kernelspec": {
   "display_name": "ArcGISPro",
   "language": "Python",
   "name": "python3"
  },
  "language_info": {
   "file_extension": ".py",
   "name": "python",
   "version": "3"
  }
 },
 "nbformat": 4,
 "nbformat_minor": 2
}
