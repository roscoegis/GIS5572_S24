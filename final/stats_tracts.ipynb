{
 "cells": [
  {
   "cell_type": "code",
   "execution_count": 27,
   "metadata": {},
   "outputs": [],
   "source": [
    "# Import libraries\n",
    "# t-test libraries at the end \n",
    "\n",
    "import requests\n",
    "import pandas as pd\n",
    "import json\n",
    "import os\n",
    "import arcpy\n",
    "import numpy as np\n",
    "from scipy import stats \n",
    "from numpy.random import seed \n",
    "from numpy.random import randn \n",
    "from numpy.random import normal \n",
    "from scipy.stats import ttest_1samp\n",
    "from scipy.stats import ttest_ind\n",
    "import matplotlib.pyplot as plt"
   ]
  },
  {
   "cell_type": "code",
   "execution_count": 28,
   "metadata": {},
   "outputs": [],
   "source": [
    "# define the workspace so the files write to this spot\n",
    "workspace = r'Z:\\Helpdesk\\Shana\\GIS 5572\\5572Final\\5572Final.gdb'"
   ]
  },
  {
   "cell_type": "code",
   "execution_count": 34,
   "metadata": {},
   "outputs": [],
   "source": [
    "# Define field names to pull from the census data into the dataframe\n",
    "field_names = ['County', 'P005_calc_pct0004', 'mean_delay_saturday', 'mean_saturday_status', 'Point_Count']"
   ]
  },
  {
   "cell_type": "code",
   "execution_count": 35,
   "metadata": {},
   "outputs": [],
   "source": [
    "# Create a numpy array in order to create a dataframe\n",
    "arrayr = arcpy.da.FeatureClassToNumPyArray('RamseyTract_SummarizeWithin', field_names)"
   ]
  },
  {
   "cell_type": "code",
   "execution_count": 36,
   "metadata": {},
   "outputs": [],
   "source": [
    "# Create a numpy array in order to create a dataframe\n",
    "arrayh = arcpy.da.FeatureClassToNumPyArray('HennepinTract_SummarizeWithin', field_names)"
   ]
  },
  {
   "cell_type": "code",
   "execution_count": 37,
   "metadata": {},
   "outputs": [],
   "source": [
    "dfr = pd.DataFrame(arrayr)\n",
    "dfh = pd.DataFrame(arrayh)\n",
    "\n"
   ]
  },
  {
   "cell_type": "code",
   "execution_count": 39,
   "metadata": {},
   "outputs": [
    {
     "data": {
      "text/html": [
       "<div>\n",
       "<style scoped>\n",
       "    .dataframe tbody tr th:only-of-type {\n",
       "        vertical-align: middle;\n",
       "    }\n",
       "\n",
       "    .dataframe tbody tr th {\n",
       "        vertical-align: top;\n",
       "    }\n",
       "\n",
       "    .dataframe thead th {\n",
       "        text-align: right;\n",
       "    }\n",
       "</style>\n",
       "<table border=\"1\" class=\"dataframe\">\n",
       "  <thead>\n",
       "    <tr style=\"text-align: right;\">\n",
       "      <th></th>\n",
       "      <th>County</th>\n",
       "      <th>P005_calc_pct0004</th>\n",
       "      <th>mean_delay_saturday</th>\n",
       "      <th>mean_saturday_status</th>\n",
       "      <th>Point_Count</th>\n",
       "    </tr>\n",
       "  </thead>\n",
       "  <tbody>\n",
       "    <tr>\n",
       "      <th>0</th>\n",
       "      <td>Ramsey County</td>\n",
       "      <td>5.1</td>\n",
       "      <td>2.635135</td>\n",
       "      <td>0.689189</td>\n",
       "      <td>74</td>\n",
       "    </tr>\n",
       "    <tr>\n",
       "      <th>1</th>\n",
       "      <td>Ramsey County</td>\n",
       "      <td>19.4</td>\n",
       "      <td>2.141935</td>\n",
       "      <td>0.774194</td>\n",
       "      <td>155</td>\n",
       "    </tr>\n",
       "    <tr>\n",
       "      <th>2</th>\n",
       "      <td>Ramsey County</td>\n",
       "      <td>16.1</td>\n",
       "      <td>1.778689</td>\n",
       "      <td>0.860656</td>\n",
       "      <td>122</td>\n",
       "    </tr>\n",
       "    <tr>\n",
       "      <th>3</th>\n",
       "      <td>Ramsey County</td>\n",
       "      <td>16.8</td>\n",
       "      <td>1.463768</td>\n",
       "      <td>0.811594</td>\n",
       "      <td>69</td>\n",
       "    </tr>\n",
       "    <tr>\n",
       "      <th>4</th>\n",
       "      <td>Ramsey County</td>\n",
       "      <td>34.7</td>\n",
       "      <td>0.863636</td>\n",
       "      <td>0.647727</td>\n",
       "      <td>88</td>\n",
       "    </tr>\n",
       "  </tbody>\n",
       "</table>\n",
       "</div>"
      ],
      "text/plain": [
       "          County  P005_calc_pct0004  ...  mean_saturday_status  Point_Count\n",
       "0  Ramsey County                5.1  ...              0.689189           74\n",
       "1  Ramsey County               19.4  ...              0.774194          155\n",
       "2  Ramsey County               16.1  ...              0.860656          122\n",
       "3  Ramsey County               16.8  ...              0.811594           69\n",
       "4  Ramsey County               34.7  ...              0.647727           88\n",
       "\n",
       "[5 rows x 5 columns]"
      ]
     },
     "execution_count": 39,
     "metadata": {},
     "output_type": "execute_result"
    }
   ],
   "source": [
    "df_t = pd.concat([dfr, dfh], axis=0)\n",
    "\n",
    "df_t.head()"
   ]
  },
  {
   "cell_type": "code",
   "execution_count": 40,
   "metadata": {},
   "outputs": [],
   "source": [
    "df_t.reset_index(drop=True, inplace=True)"
   ]
  },
  {
   "cell_type": "code",
   "execution_count": null,
   "metadata": {},
   "outputs": [],
   "source": []
  },
  {
   "cell_type": "markdown",
   "metadata": {},
   "source": [
    "## Student TTest\n",
    "In this anaylsis, my null hypothesis is that delays in geographies (block groups or tracts) with high percentage of Black population is the same as in block groups or tracts with lower percentanges of Black population.\n",
    "\n",
    "alternative hypothesis: dealys in the geographies (block groups or tracts) with high percentage of Black population is HIGHER or LOWER than in block groups or tracts with lower percentanges of Black population.\n",
    "\n",
    "Reference: https://thedatascientist.com/how-to-do-a-t-test-in-python/"
   ]
  },
  {
   "cell_type": "code",
   "execution_count": 41,
   "metadata": {},
   "outputs": [
    {
     "name": "stdout",
     "output_type": "stream",
     "text": [
      "['County', 'P005_calc_pct0004', 'mean_delay_saturday', 'mean_saturday_status', 'Point_Count']\n"
     ]
    }
   ],
   "source": [
    "columns = df_t.columns.tolist()\n",
    "print(columns)"
   ]
  },
  {
   "cell_type": "code",
   "execution_count": 42,
   "metadata": {},
   "outputs": [
    {
     "name": "stdout",
     "output_type": "stream",
     "text": [
      "Mean: 13.614225053078556\n",
      "Standard Deviation: 13.680549532646735\n"
     ]
    }
   ],
   "source": [
    "# Calculate the mean of the delay in the census tracts\n",
    "mean_value = df_t['P005_calc_pct0004'].mean()\n",
    "std_deviation = df_t['P005_calc_pct0004'].std()\n",
    "\n",
    "print(\"Mean:\", mean_value)\n",
    "print(\"Standard Deviation:\", std_deviation)"
   ]
  },
  {
   "cell_type": "code",
   "execution_count": 43,
   "metadata": {},
   "outputs": [],
   "source": [
    "# create a new df with only the block groups with the highest percentage of African American population (the top 25% )\n",
    "percent_pop = df_t['P005_calc_pct0004']\n",
    "\n",
    "# Calculate the 75th percentile value\n",
    "threshold = pd.Series(percent_pop).quantile(0.75)\n",
    "\n",
    "# Select rows where the field value is greater than or equal to the threshold\n",
    "top = df_t[percent_pop >= threshold]"
   ]
  },
  {
   "cell_type": "code",
   "execution_count": 44,
   "metadata": {},
   "outputs": [
    {
     "name": "stdout",
     "output_type": "stream",
     "text": [
      "Number of rows: 118\n"
     ]
    }
   ],
   "source": [
    "# count the number of rows in the subset\n",
    "num_rows = len(top)  # Using len() function\n",
    "print(\"Number of rows:\", num_rows)"
   ]
  },
  {
   "cell_type": "code",
   "execution_count": 46,
   "metadata": {},
   "outputs": [
    {
     "name": "stdout",
     "output_type": "stream",
     "text": [
      "Number of rows: 472\n"
     ]
    }
   ],
   "source": [
    "# count the number of rows in the whole population\n",
    "num_rows = len(df_t)  # Using len() function\n",
    "print(\"Number of rows:\", num_rows)"
   ]
  },
  {
   "cell_type": "code",
   "execution_count": 47,
   "metadata": {},
   "outputs": [
    {
     "name": "stdout",
     "output_type": "stream",
     "text": [
      "Mean: 32.644067796610166\n",
      "Standard Deviation: 13.840974364032023\n"
     ]
    }
   ],
   "source": [
    "# Finding the mean of the sample selection - the  25% of Census Tracts with highest population of African Americans\n",
    "mean_value_sample = top['P005_calc_pct0004'].mean()\n",
    "std_deviation_sample = top['P005_calc_pct0004'].std()\n",
    "\n",
    "print(\"Mean:\", mean_value_sample)\n",
    "print(\"Standard Deviation:\", std_deviation_sample)"
   ]
  },
  {
   "cell_type": "code",
   "execution_count": 48,
   "metadata": {},
   "outputs": [],
   "source": [
    "# Select only the census tracts that have stops in them. Eliminate all block groups that have 0 in the Point Count field\n",
    "# Yes, I should've done this way at the beginning \n",
    "df_t = df_t[df_t['Point_Count'] != 0]\n",
    "top = top[top['Point_Count'] != 0]"
   ]
  },
  {
   "cell_type": "code",
   "execution_count": 49,
   "metadata": {},
   "outputs": [],
   "source": [
    "# Create lists from the \"mean_delay_saturday\" field to use in the ttest\n",
    "subset = top['mean_delay_saturday'].tolist()\n",
    "whole = df_t['mean_delay_saturday'].tolist()"
   ]
  },
  {
   "cell_type": "code",
   "execution_count": 50,
   "metadata": {},
   "outputs": [
    {
     "name": "stdout",
     "output_type": "stream",
     "text": [
      "t-statistic: -0.17741341727730953\n",
      "p-value: 0.8592604274152805\n"
     ]
    }
   ],
   "source": [
    "# Calculate the ttest\n",
    "t_statistic, p_value = ttest_ind(subset, whole)\n",
    "\n",
    "print(\"t-statistic:\", t_statistic)\n",
    "print(\"p-value:\", p_value)"
   ]
  },
  {
   "cell_type": "markdown",
   "metadata": {},
   "source": [
    "## Results\n",
    "With the results of:\n",
    "* t-statistic: -0.17741341727730953\n",
    "* p-value: 0.8592604274152805\n",
    "\n",
    "We can conclude that the null hypothesis is correct: there is no statistical difference in the mean delay time between Census Tracts with high African American population and the set of block groups as a whole.. "
   ]
  },
  {
   "cell_type": "code",
   "execution_count": null,
   "metadata": {},
   "outputs": [],
   "source": []
  }
 ],
 "metadata": {
  "kernelspec": {
   "display_name": "ArcGISPro",
   "language": "Python",
   "name": "python3"
  },
  "language_info": {
   "file_extension": ".py",
   "name": "python",
   "version": "3"
  }
 },
 "nbformat": 4,
 "nbformat_minor": 2
}
