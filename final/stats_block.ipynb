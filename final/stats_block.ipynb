{
 "cells": [
  {
   "cell_type": "code",
   "execution_count": 12,
   "metadata": {},
   "outputs": [],
   "source": [
    "# Import libraries\n",
    "# t-test libraries at the end \n",
    "\n",
    "import requests\n",
    "import pandas as pd\n",
    "import json\n",
    "import os\n",
    "import arcpy\n",
    "import numpy as np\n",
    "from scipy import stats \n",
    "from numpy.random import seed \n",
    "from numpy.random import randn \n",
    "from numpy.random import normal \n",
    "from scipy.stats import ttest_1samp\n",
    "from scipy.stats import ttest_ind\n",
    "import matplotlib.pyplot as plt\n"
   ]
  },
  {
   "cell_type": "code",
   "execution_count": 5,
   "metadata": {},
   "outputs": [],
   "source": [
    "# define the workspace so the files write to this spot\n",
    "workspace = r'Z:\\Helpdesk\\Shana\\GIS 5572\\5572Final\\5572Final.gdb'"
   ]
  },
  {
   "cell_type": "code",
   "execution_count": 3,
   "metadata": {},
   "outputs": [],
   "source": [
    "# Define field names to pull from the census data into the dataframe\n",
    "field_names = ['GEOID', 'State', 'County', 'P0010001', 'P005_calc_pct0004', 'mean_delay_saturday', 'mean_saturday_status', 'Point_Count']"
   ]
  },
  {
   "cell_type": "code",
   "execution_count": 6,
   "metadata": {},
   "outputs": [],
   "source": [
    "# Create a numpy array in order to create a dataframe\n",
    "array1 = arcpy.da.FeatureClassToNumPyArray('BlockGroupselection_SummarizeWithin', field_names)"
   ]
  },
  {
   "cell_type": "code",
   "execution_count": 7,
   "metadata": {},
   "outputs": [],
   "source": [
    "# create a dataframe from the array\n",
    "df = pd.DataFrame(array1)"
   ]
  },
  {
   "cell_type": "code",
   "execution_count": 8,
   "metadata": {},
   "outputs": [
    {
     "data": {
      "text/html": [
       "<div>\n",
       "<style scoped>\n",
       "    .dataframe tbody tr th:only-of-type {\n",
       "        vertical-align: middle;\n",
       "    }\n",
       "\n",
       "    .dataframe tbody tr th {\n",
       "        vertical-align: top;\n",
       "    }\n",
       "\n",
       "    .dataframe thead th {\n",
       "        text-align: right;\n",
       "    }\n",
       "</style>\n",
       "<table border=\"1\" class=\"dataframe\">\n",
       "  <thead>\n",
       "    <tr style=\"text-align: right;\">\n",
       "      <th></th>\n",
       "      <th>GEOID</th>\n",
       "      <th>State</th>\n",
       "      <th>County</th>\n",
       "      <th>P0010001</th>\n",
       "      <th>P005_calc_pct0004</th>\n",
       "      <th>mean_delay_saturday</th>\n",
       "      <th>mean_saturday_status</th>\n",
       "      <th>Point_Count</th>\n",
       "    </tr>\n",
       "  </thead>\n",
       "  <tbody>\n",
       "    <tr>\n",
       "      <th>0</th>\n",
       "      <td>380719576001</td>\n",
       "      <td>North Dakota</td>\n",
       "      <td>Ramsey County</td>\n",
       "      <td>1507</td>\n",
       "      <td>0.5</td>\n",
       "      <td>NaN</td>\n",
       "      <td>NaN</td>\n",
       "      <td>0</td>\n",
       "    </tr>\n",
       "    <tr>\n",
       "      <th>1</th>\n",
       "      <td>380719576002</td>\n",
       "      <td>North Dakota</td>\n",
       "      <td>Ramsey County</td>\n",
       "      <td>793</td>\n",
       "      <td>0.9</td>\n",
       "      <td>NaN</td>\n",
       "      <td>NaN</td>\n",
       "      <td>0</td>\n",
       "    </tr>\n",
       "    <tr>\n",
       "      <th>2</th>\n",
       "      <td>380719576003</td>\n",
       "      <td>North Dakota</td>\n",
       "      <td>Ramsey County</td>\n",
       "      <td>887</td>\n",
       "      <td>1.2</td>\n",
       "      <td>NaN</td>\n",
       "      <td>NaN</td>\n",
       "      <td>0</td>\n",
       "    </tr>\n",
       "    <tr>\n",
       "      <th>3</th>\n",
       "      <td>380719576004</td>\n",
       "      <td>North Dakota</td>\n",
       "      <td>Ramsey County</td>\n",
       "      <td>1206</td>\n",
       "      <td>0.1</td>\n",
       "      <td>NaN</td>\n",
       "      <td>NaN</td>\n",
       "      <td>0</td>\n",
       "    </tr>\n",
       "    <tr>\n",
       "      <th>4</th>\n",
       "      <td>380719577001</td>\n",
       "      <td>North Dakota</td>\n",
       "      <td>Ramsey County</td>\n",
       "      <td>986</td>\n",
       "      <td>1.5</td>\n",
       "      <td>NaN</td>\n",
       "      <td>NaN</td>\n",
       "      <td>0</td>\n",
       "    </tr>\n",
       "  </tbody>\n",
       "</table>\n",
       "</div>"
      ],
      "text/plain": [
       "          GEOID         State  ... mean_saturday_status  Point_Count\n",
       "0  380719576001  North Dakota  ...                  NaN            0\n",
       "1  380719576002  North Dakota  ...                  NaN            0\n",
       "2  380719576003  North Dakota  ...                  NaN            0\n",
       "3  380719576004  North Dakota  ...                  NaN            0\n",
       "4  380719577001  North Dakota  ...                  NaN            0\n",
       "\n",
       "[5 rows x 8 columns]"
      ]
     },
     "execution_count": 8,
     "metadata": {},
     "output_type": "execute_result"
    }
   ],
   "source": [
    "# look at the first rows. I see North Dakota! Yikes!\n",
    "df.head()"
   ]
  },
  {
   "cell_type": "code",
   "execution_count": 9,
   "metadata": {},
   "outputs": [],
   "source": [
    "# Select only the Minnesota data\n",
    "df = df[df['State'] == 'Minnesota']"
   ]
  },
  {
   "cell_type": "code",
   "execution_count": null,
   "metadata": {},
   "outputs": [],
   "source": [
    "# double check\n",
    "df.head()"
   ]
  },
  {
   "cell_type": "code",
   "execution_count": null,
   "metadata": {},
   "outputs": [],
   "source": [
    "# Select only the block groups that have stops in them\n",
    "df = df[df['Point_Count'] != 0]"
   ]
  },
  {
   "cell_type": "code",
   "execution_count": null,
   "metadata": {},
   "outputs": [],
   "source": [
    "# Create a new dataframe  - I was thinking about pulling in the geometry, but that doesn't work!\n",
    "# I can't remember why I wanted to make this dataframe.... The data I want is in the Summarize Within layer\n",
    "selection = arcpy.da.FeatureClassToNumPyArray('BlockGroupselection_Features', ('GEOID', 'State', 'County', 'P0010001', 'P005_calc_pct0004', 'Shape_Length', 'Shape_Area') )"
   ]
  },
  {
   "cell_type": "code",
   "execution_count": null,
   "metadata": {},
   "outputs": [],
   "source": [
    "original_df = pd.DataFrame(selection)"
   ]
  },
  {
   "cell_type": "code",
   "execution_count": null,
   "metadata": {
    "scrolled": true
   },
   "outputs": [],
   "source": [
    "original_df.head()"
   ]
  },
  {
   "cell_type": "code",
   "execution_count": null,
   "metadata": {},
   "outputs": [],
   "source": [
    "original_df = original_df[original_df['State'] == 'Minnesota']"
   ]
  },
  {
   "cell_type": "markdown",
   "metadata": {},
   "source": [
    "## Student TTest\n",
    "In this anaylsis, my null hypothesis is that delays in geographies (block groups or tracts) with high percentage of Black population is the same as in block groups or tracts with lower percentanges of Black population.\n",
    "\n",
    "alternative hypothesis: dealys in the geographies (block groups or tracts) with high percentage of Black population is HIGHER or LOWER than in block groups or tracts with lower percentanges of Black population.\n",
    "\n",
    "\n",
    "Reference: https://thedatascientist.com/how-to-do-a-t-test-in-python/"
   ]
  },
  {
   "cell_type": "code",
   "execution_count": 10,
   "metadata": {},
   "outputs": [
    {
     "name": "stdout",
     "output_type": "stream",
     "text": [
      "['GEOID', 'State', 'County', 'P0010001', 'P005_calc_pct0004', 'mean_delay_saturday', 'mean_saturday_status', 'Point_Count']\n"
     ]
    }
   ],
   "source": [
    "columns = df.columns.tolist()\n",
    "print(columns)"
   ]
  },
  {
   "cell_type": "code",
   "execution_count": 11,
   "metadata": {},
   "outputs": [
    {
     "name": "stdout",
     "output_type": "stream",
     "text": [
      "Mean: 12.669036845507433\n",
      "Standard Deviation: 14.195278875199875\n"
     ]
    }
   ],
   "source": [
    "# Calculate the mean of the dealy in the block groups. Just for fun.\n",
    "mean_value = df['P005_calc_pct0004'].mean()\n",
    "std_deviation = df['P005_calc_pct0004'].std()\n",
    "\n",
    "print(\"Mean:\", mean_value)\n",
    "print(\"Standard Deviation:\", std_deviation)"
   ]
  },
  {
   "cell_type": "code",
   "execution_count": 13,
   "metadata": {},
   "outputs": [],
   "source": [
    "# create a histogram of the delay. Why? Just because it's interesting. To explore the data.\n",
    "plt.hist(array1['P005_calc_pct0004'], bins=10)  # Adjust the number of bins as needed\n",
    "plt.xlabel('Values')\n",
    "plt.ylabel('Frequency')\n",
    "plt.title('Histogram of Column \"{}\"'.format('column_name'))  # Replace 'column_name' with the actual column name\n",
    "plt.show()"
   ]
  },
  {
   "cell_type": "code",
   "execution_count": 14,
   "metadata": {},
   "outputs": [],
   "source": [
    "# create a new df with only the block groups with the highest percentage of African American population (the top 25% )\n",
    "percent_pop = df['P005_calc_pct0004']\n",
    "\n",
    "# Calculate the 75th percentile value\n",
    "threshold = pd.Series(percent_pop).quantile(0.75)\n",
    "\n",
    "# Select rows where the field value is greater than or equal to the threshold\n",
    "top_25_percent = df[percent_pop >= threshold]"
   ]
  },
  {
   "cell_type": "code",
   "execution_count": 15,
   "metadata": {},
   "outputs": [
    {
     "data": {
      "text/html": [
       "<div>\n",
       "<style scoped>\n",
       "    .dataframe tbody tr th:only-of-type {\n",
       "        vertical-align: middle;\n",
       "    }\n",
       "\n",
       "    .dataframe tbody tr th {\n",
       "        vertical-align: top;\n",
       "    }\n",
       "\n",
       "    .dataframe thead th {\n",
       "        text-align: right;\n",
       "    }\n",
       "</style>\n",
       "<table border=\"1\" class=\"dataframe\">\n",
       "  <thead>\n",
       "    <tr style=\"text-align: right;\">\n",
       "      <th></th>\n",
       "      <th>GEOID</th>\n",
       "      <th>State</th>\n",
       "      <th>County</th>\n",
       "      <th>P0010001</th>\n",
       "      <th>P005_calc_pct0004</th>\n",
       "      <th>mean_delay_saturday</th>\n",
       "      <th>mean_saturday_status</th>\n",
       "      <th>Point_Count</th>\n",
       "    </tr>\n",
       "  </thead>\n",
       "  <tbody>\n",
       "    <tr>\n",
       "      <th>12</th>\n",
       "      <td>270530001011</td>\n",
       "      <td>Minnesota</td>\n",
       "      <td>Hennepin County</td>\n",
       "      <td>1057</td>\n",
       "      <td>34.0</td>\n",
       "      <td>1.500000</td>\n",
       "      <td>0.857143</td>\n",
       "      <td>14</td>\n",
       "    </tr>\n",
       "    <tr>\n",
       "      <th>13</th>\n",
       "      <td>270530001012</td>\n",
       "      <td>Minnesota</td>\n",
       "      <td>Hennepin County</td>\n",
       "      <td>812</td>\n",
       "      <td>27.1</td>\n",
       "      <td>NaN</td>\n",
       "      <td>NaN</td>\n",
       "      <td>0</td>\n",
       "    </tr>\n",
       "    <tr>\n",
       "      <th>14</th>\n",
       "      <td>270530001013</td>\n",
       "      <td>Minnesota</td>\n",
       "      <td>Hennepin County</td>\n",
       "      <td>777</td>\n",
       "      <td>27.2</td>\n",
       "      <td>3.769231</td>\n",
       "      <td>1.000000</td>\n",
       "      <td>13</td>\n",
       "    </tr>\n",
       "    <tr>\n",
       "      <th>15</th>\n",
       "      <td>270530001014</td>\n",
       "      <td>Minnesota</td>\n",
       "      <td>Hennepin County</td>\n",
       "      <td>705</td>\n",
       "      <td>25.5</td>\n",
       "      <td>NaN</td>\n",
       "      <td>NaN</td>\n",
       "      <td>0</td>\n",
       "    </tr>\n",
       "    <tr>\n",
       "      <th>16</th>\n",
       "      <td>270530001021</td>\n",
       "      <td>Minnesota</td>\n",
       "      <td>Hennepin County</td>\n",
       "      <td>1128</td>\n",
       "      <td>37.2</td>\n",
       "      <td>3.000000</td>\n",
       "      <td>0.956522</td>\n",
       "      <td>46</td>\n",
       "    </tr>\n",
       "  </tbody>\n",
       "</table>\n",
       "</div>"
      ],
      "text/plain": [
       "           GEOID      State  ... mean_saturday_status  Point_Count\n",
       "12  270530001011  Minnesota  ...             0.857143           14\n",
       "13  270530001012  Minnesota  ...                  NaN            0\n",
       "14  270530001013  Minnesota  ...             1.000000           13\n",
       "15  270530001014  Minnesota  ...                  NaN            0\n",
       "16  270530001021  Minnesota  ...             0.956522           46\n",
       "\n",
       "[5 rows x 8 columns]"
      ]
     },
     "execution_count": 15,
     "metadata": {},
     "output_type": "execute_result"
    }
   ],
   "source": [
    "top_25_percent.head()"
   ]
  },
  {
   "cell_type": "code",
   "execution_count": 16,
   "metadata": {},
   "outputs": [
    {
     "name": "stdout",
     "output_type": "stream",
     "text": [
      "Number of rows: 387\n"
     ]
    }
   ],
   "source": [
    "# count the number of rows in the subset\n",
    "num_rows = len(top_25_percent)  # Using len() function\n",
    "print(\"Number of rows:\", num_rows)"
   ]
  },
  {
   "cell_type": "code",
   "execution_count": 17,
   "metadata": {},
   "outputs": [
    {
     "name": "stdout",
     "output_type": "stream",
     "text": [
      "Number of rows: 1569\n"
     ]
    }
   ],
   "source": [
    "# count the number of rows in the total population\n",
    "num_rows = len(df)  # Using len() function\n",
    "print(\"Number of rows:\", num_rows)"
   ]
  },
  {
   "cell_type": "code",
   "execution_count": 18,
   "metadata": {},
   "outputs": [
    {
     "name": "stdout",
     "output_type": "stream",
     "text": [
      "Mean: 32.86434108527132\n",
      "Standard Deviation: 14.213558795917983\n"
     ]
    }
   ],
   "source": [
    "# Finding the mean of the sample selection\n",
    "mean_value_sample = top_25_percent['P005_calc_pct0004'].mean()\n",
    "std_deviation_sample = top_25_percent['P005_calc_pct0004'].std()\n",
    "\n",
    "print(\"Mean:\", mean_value_sample)\n",
    "print(\"Standard Deviation:\", std_deviation_sample)"
   ]
  },
  {
   "cell_type": "code",
   "execution_count": 24,
   "metadata": {},
   "outputs": [],
   "source": [
    "# Select only the block groups that have stops in them. Eliminate all block groups that have 0 in the Point Count field\n",
    "df = df[df['Point_Count'] != 0]\n",
    "top_25_percent = top_25_percent[top_25_percent['Point_Count'] != 0]"
   ]
  },
  {
   "cell_type": "code",
   "execution_count": 25,
   "metadata": {},
   "outputs": [],
   "source": [
    "# Create lists from the \"mean_delay_saturday\" field to use in the ttest\n",
    "sample_list = top_25_percent['mean_delay_saturday'].tolist()\n",
    "whole_list = df['mean_delay_saturday'].tolist()"
   ]
  },
  {
   "cell_type": "code",
   "execution_count": 26,
   "metadata": {},
   "outputs": [
    {
     "name": "stdout",
     "output_type": "stream",
     "text": [
      "t-statistic: 0.2851648550600439\n",
      "p-value: 0.7755611690293546\n"
     ]
    }
   ],
   "source": [
    "# Calculate the ttest\n",
    "t_statistic, p_value = ttest_ind(sample_list, whole_list)\n",
    "\n",
    "print(\"t-statistic:\", t_statistic)\n",
    "print(\"p-value:\", p_value)"
   ]
  },
  {
   "cell_type": "markdown",
   "metadata": {},
   "source": [
    "## Results\n",
    "With the results of:\n",
    "* t-statistic: 0.2851648550600439\n",
    "* p-value: 0.7755611690293546\n",
    "\n",
    "We can conclude that the null hypothesis is correct: there is no statistical difference in the mean delay time between Block Groups with high African American population and the set of block groups as a whole.. "
   ]
  },
  {
   "cell_type": "code",
   "execution_count": null,
   "metadata": {},
   "outputs": [],
   "source": []
  }
 ],
 "metadata": {
  "kernelspec": {
   "display_name": "ArcGISPro",
   "language": "Python",
   "name": "python3"
  },
  "language_info": {
   "file_extension": ".py",
   "name": "python",
   "version": "3"
  }
 },
 "nbformat": 4,
 "nbformat_minor": 2
}
