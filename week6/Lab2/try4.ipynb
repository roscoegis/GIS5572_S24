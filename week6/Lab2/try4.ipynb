{
 "cells": [
  {
   "cell_type": "code",
   "execution_count": 2,
   "metadata": {},
   "outputs": [],
   "source": [
    "import csv\n",
    "import requests\n",
    "import json\n",
    "import time"
   ]
  },
  {
   "cell_type": "markdown",
   "metadata": {},
   "source": [
    "# Import from API\n",
    "# Write to CSV"
   ]
  },
  {
   "cell_type": "code",
   "execution_count": 4,
   "metadata": {},
   "outputs": [],
   "source": [
    "milktruck = \"https://qaqcmilktruck-qfcu3qoavq-uc.a.run.app/5572/milk_truck_sensor\"\n",
    "response = requests.get(milktruck)"
   ]
  },
  {
   "cell_type": "code",
   "execution_count": 7,
   "metadata": {},
   "outputs": [
    {
     "name": "stdout",
     "output_type": "stream",
     "text": [
      "{'lat': 46.42688229472665, 'lon': -93.47497682050897, 'current_time': '02/25/24:20:32:53', 'air_temperature': 38.745304754629316}\n",
      "{'lat': 46.17326603143231, 'lon': -93.07054355232837, 'current_time': '02/25/24:20:32:58', 'air_temperature': 21.0020538096298}\n",
      "{'lat': 46.488786378116565, 'lon': -93.62917072491625, 'current_time': '02/25/24:20:33:03', 'air_temperature': 47.187766397097725}\n",
      "Exiting\n"
     ]
    },
    {
     "ename": "",
     "evalue": "",
     "output_type": "error",
     "traceback": [
      "\u001b[1;31mThe Kernel crashed while executing code in the the current cell or a previous cell. Please review the code in the cell(s) to identify a possible cause of the failure. Click <a href='https://aka.ms/vscodeJupyterKernelCrash'>here</a> for more info. View Jupyter <a href='command:jupyter.viewOutput'>log</a> for further details."
     ]
    }
   ],
   "source": [
    "try:\n",
    "    while True:\n",
    "        response = requests.get(milktruck)\n",
    "        print(response.json()) \n",
    "        time.sleep(5)\n",
    "\n",
    "except KeyboardInterrupt:\n",
    "    print(\"Exiting\")\n",
    "    exit(0)\n",
    "\n"
   ]
  },
  {
   "cell_type": "code",
   "execution_count": 5,
   "metadata": {},
   "outputs": [
    {
     "name": "stdout",
     "output_type": "stream",
     "text": [
      "Success\n",
      "{'lat': 47.27641267630036, 'lon': -94.33009359884333, 'current_time': '02/25/24:20:34:45', 'air_temperature': 27.450696469324033}\n"
     ]
    }
   ],
   "source": [
    "# check status of API call \n",
    "if response.status_code == 200:\n",
    "    info = response.json()\n",
    "    print(\"Success\")\n",
    "    print(info)"
   ]
  },
  {
   "cell_type": "code",
   "execution_count": 7,
   "metadata": {},
   "outputs": [
    {
     "ename": "SyntaxError",
     "evalue": "invalid syntax. Perhaps you forgot a comma? (1257151673.py, line 8)",
     "output_type": "error",
     "traceback": [
      "\u001b[0;36m  Cell \u001b[0;32mIn[7], line 8\u001b[0;36m\u001b[0m\n\u001b[0;31m    \"current_time\": row['time']\u001b[0m\n\u001b[0m                    ^\u001b[0m\n\u001b[0;31mSyntaxError\u001b[0m\u001b[0;31m:\u001b[0m invalid syntax. Perhaps you forgot a comma?\n"
     ]
    }
   ],
   "source": [
    "with open('milkdata.csv') as csvfile:\n",
    "    reader = csv.DictReader(csvfile)\n",
    "    for row in reader:\n",
    "        print(row['lat'], row['long'], row['time'], row['temp'])\n",
    "        data = {\n",
    "            \"lat\": row['lat'],\n",
    "            \"lon\": row['lon'],\n",
    "            \"current_time\": row['time']\n",
    "            \"air_temperature\": row['temp']\n",
    "        }\n",
    "        response = requests.post('http://qaqcmilktruck-qfcu3qoavq-uc.a.run.app/5572/milk_truck_sensor')"
   ]
  }
 ],
 "metadata": {
  "kernelspec": {
   "display_name": "base",
   "language": "python",
   "name": "python3"
  },
  "language_info": {
   "codemirror_mode": {
    "name": "ipython",
    "version": 3
   },
   "file_extension": ".py",
   "mimetype": "text/x-python",
   "name": "python",
   "nbconvert_exporter": "python",
   "pygments_lexer": "ipython3",
   "version": "3.11.6"
  }
 },
 "nbformat": 4,
 "nbformat_minor": 2
}
