{
 "cells": [
  {
   "cell_type": "markdown",
   "metadata": {},
   "source": [
    "## GIS 5572 Lab 3\n",
    "I had to rerun part of Lab 2 in order to do this lab. Many thanks to Sebastian for letting me look at his code to get this part done."
   ]
  },
  {
   "cell_type": "code",
   "execution_count": 25,
   "metadata": {},
   "outputs": [],
   "source": [
    "\n",
    "import requests\n",
    "import os\n",
    "import datetime\n",
    "import json\n",
    "\n"
   ]
  },
  {
   "cell_type": "markdown",
   "metadata": {},
   "source": [
    "### Connect Postgres database\n",
    "How to: https://pro.arcgis.com/en/pro-app/latest/help/data/databases/connect-postgresql.htm\n",
    "Use Connections in toolbar\n",
    "Add Database connection"
   ]
  },
  {
   "cell_type": "code",
   "execution_count": null,
   "metadata": {},
   "outputs": [],
   "source": [
    "workspace = r\"Z:\\Helpdesk\\Shana\\GIS 5572\\5572Lab3\"\n",
    "\n",
    "weather_data = 'https://mesonet.agron.iastate.edu/api/1/daily.geojson?network=MN_RWIS&year=2024&month=2'"
   ]
  },
  {
   "cell_type": "code",
   "execution_count": 9,
   "metadata": {},
   "outputs": [],
   "source": [
    "response = requests.get(weather_data)\n",
    "file_path = os.path.join(workspace, 'weather_2.geojson')\n",
    "with open(file_path, 'wb') as file:\n",
    "    file.write(response.content)"
   ]
  },
  {
   "cell_type": "code",
   "execution_count": 10,
   "metadata": {},
   "outputs": [
    {
     "data": {
      "text/html": [
       "<div class='gpresult'><h2>Messages</h2><div id='messages' data-messages='[\"Start Time: Sunday, March 24, 2024 3:43:19 PM\",\"Succeeded at Sunday, March 24, 2024 3:43:25 PM (Elapsed Time: 6.06 seconds)\"]' data-show='true'><div id = 'default' /></div></div>"
      ],
      "text/plain": [
       "<Result 'Z:\\\\Helpdesk\\\\Shana\\\\GIS 5572\\\\5572Lab3\\\\5572Lab3.gdb\\\\weather2'>"
      ]
     },
     "execution_count": 10,
     "metadata": {},
     "output_type": "execute_result"
    }
   ],
   "source": [
    "out_features = 'weather2'\n",
    "arcpy.conversion.JSONToFeatures(file_path, out_features, geometry_type=\"POINT\")"
   ]
  },
  {
   "cell_type": "code",
   "execution_count": 20,
   "metadata": {},
   "outputs": [
    {
     "data": {
      "text/html": [
       "<div class='gpresult'><h2>Messages</h2><div id='messages' data-messages='[\"Start Time: Sunday, March 24, 2024 4:05:08 PM\",\"Succeeded at Sunday, March 24, 2024 4:07:00 PM (Elapsed Time: 1 minutes 52 seconds)\"]' data-show='true'><div id = 'default' /></div></div>"
      ],
      "text/plain": [
       "<Result 'Z:\\\\\\\\Helpdesk\\\\\\\\Shana\\\\\\\\GIS 5572\\\\\\\\5572Lab3\\\\\\\\35.224.112.3.sde\\\\labgis5572.postgres.weather2_1'>"
      ]
     },
     "execution_count": 20,
     "metadata": {},
     "output_type": "execute_result"
    }
   ],
   "source": [
    "arcpy.env.workspace = r\"Z:\\\\Helpdesk\\\\Shana\\\\GIS 5572\\\\5572Lab3\\\\35.224.112.3.sde\"\n",
    "\n",
    "weather_data = 'https://mesonet.agron.iastate.edu/api/1/daily.geojson?network=MN_RWIS&year=2024&month=2'\n",
    "out_features = 'weather2_1'\n",
    "arcpy.conversion.JSONToFeatures(file_path, out_features, geometry_type=\"POINT\")"
   ]
  },
  {
   "cell_type": "code",
   "execution_count": 21,
   "metadata": {},
   "outputs": [
    {
     "name": "stdout",
     "output_type": "stream",
     "text": [
      "Incorrect min_tmpf, ObjectID: 356\n",
      "Incorrect min_tmpf, ObjectID: 519\n",
      "Incorrect min_tmpf, ObjectID: 2779\n",
      "Incorrect min_tmpf, ObjectID: 2942\n",
      "Incorrect max_tmpf, ObjectID: 4076\n",
      "Incorrect max_tmpf, ObjectID: 4084\n",
      "Incorrect max_tmpf, ObjectID: 4171\n",
      "Incorrect max_tmpf, ObjectID: 4210\n",
      "[356, 519, 2779, 2942, 4076, 4084, 4171, 4210]\n"
     ]
    }
   ],
   "source": [
    "\n",
    "bad_data_ids = []\n",
    "\n",
    "# Check the data points\n",
    "with arcpy.da.SearchCursor(out_features, [\"OBJECTID\", \"date\", \"min_tmpf\", \"max_tmpf\"]) as cursor:\n",
    "    for row in cursor:\n",
    "        obj_id = row[0]\n",
    "        date_col = row[1]\n",
    "        min_temp = row[2]\n",
    "        max_temp = row[3]\n",
    "        \n",
    "        date = datetime.datetime.strptime(date_col, '%Y-%m-%d')\n",
    "        is_february = date.month == 2\n",
    "        if min_temp is None:\n",
    "            is_min_valid = False\n",
    "        else: \n",
    "            is_min_valid = -30 <= min_temp <= 70\n",
    "        if max_temp is None:\n",
    "            is_max_valid = False\n",
    "        else: \n",
    "            is_max_valid = -30 <= max_temp <= 70\n",
    "\n",
    "        # Check if the date is within February, max_tmpf is betwen -30 and 70, and min_tmpf is between -30 and 70 \n",
    "        if not is_february:\n",
    "            print(f\"Incorrect date, ObjectID: {obj_id}\")\n",
    "            bad_data_ids.append(obj_id)\n",
    "        elif not is_min_valid:\n",
    "            print(f\"Incorrect min_tmpf, ObjectID: {obj_id}\")\n",
    "            bad_data_ids.append(obj_id)\n",
    "        elif not is_max_valid:\n",
    "            print(f\"Incorrect max_tmpf, ObjectID: {obj_id}\")\n",
    "            bad_data_ids.append(obj_id)\n",
    "        \n",
    "print(bad_data_ids)   \n",
    "     "
   ]
  },
  {
   "cell_type": "code",
   "execution_count": 23,
   "metadata": {},
   "outputs": [
    {
     "name": "stdout",
     "output_type": "stream",
     "text": [
      "OBJECTID IN (356, 519, 2779, 2942, 4076, 4084, 4171, 4210)\n"
     ]
    },
    {
     "data": {
      "text/html": [
       "<div class='gpresult'><h2>Messages</h2><div id='messages' data-messages='[\"Start Time: Sunday, March 24, 2024 4:16:56 PM\",\"Succeeded at Sunday, March 24, 2024 4:17:03 PM (Elapsed Time: 7.00 seconds)\"]' data-show='true'><div id = 'default' /></div></div>"
      ],
      "text/plain": [
       "<Result 'weather2'>"
      ]
     },
     "execution_count": 23,
     "metadata": {},
     "output_type": "execute_result"
    }
   ],
   "source": [
    "out_features = 'weather2'\n",
    "where_clause = \"OBJECTID IN ({})\".format(\", \".join(map(str, bad_data_ids)))\n",
    "print(where_clause)\n",
    "arcpy.SelectLayerByAttribute_management(out_features, \"NEW_SELECTION\", where_clause)\n",
    "arcpy.DeleteFeatures_management(out_features)\n",
    "     "
   ]
  },
  {
   "cell_type": "code",
   "execution_count": 24,
   "metadata": {},
   "outputs": [
    {
     "data": {
      "text/html": [
       "<div class='gpresult'><h2>Messages</h2><div id='messages' data-messages='[\"Start Time: Sunday, March 24, 2024 4:17:34 PM\",\"Succeeded at Sunday, March 24, 2024 4:17:57 PM (Elapsed Time: 23.18 seconds)\"]' data-show='true'><div id = 'default' /></div></div>"
      ],
      "text/plain": [
       "<Result 'Z:\\\\Helpdesk\\\\Shana\\\\GIS 5572\\\\5572Lab3\\\\35.224.112.3.sde\\\\feb_weather_1'>"
      ]
     },
     "execution_count": 24,
     "metadata": {},
     "output_type": "execute_result"
    }
   ],
   "source": [
    "arcpy.env.workspace = \"Z:\\\\Helpdesk\\\\Shana\\\\GIS 5572\\\\5572Lab3\\\\35.224.112.3.sde\"\n",
    "spatial_ref = arcpy.SpatialReference(4326)\n",
    "out_name = \"feb_weather_1\"\n",
    "geometry_type = \"POINT\"\n",
    "arcpy.management.CreateFeatureclass(arcpy.env.workspace, out_name, geometry_type, spatial_reference=spatial_ref)\n",
    "\n",
    "     "
   ]
  },
  {
   "cell_type": "code",
   "execution_count": 34,
   "metadata": {},
   "outputs": [
    {
     "name": "stdout",
     "output_type": "stream",
     "text": [
      "['objectid', 'station', 'date', 'max_tmpf', 'min_tmpf', 'precip', 'max_gust', 'snow', 'snowd', 'min_rh', 'max_rh', 'max_dwpf', 'min_dwpf', 'min_feel', 'avg_feel', 'max_feel', 'max_drct', 'precip_est', 'tmpf_est', 'max_gust_localts', 'temp_hour', 'avg_sknt', 'vector_avg_drct', 'min_rstage', 'max_rstage', 'id', 'name', 'shape']\n"
     ]
    }
   ],
   "source": [
    "# Path to your feature layer\n",
    "feature_layer_path = r'Z:\\\\Helpdesk\\\\Shana\\\\GIS 5572\\\\5572Lab3\\\\35.224.112.3.sde\\\\labgis5572.postgres.weather2_1'\n",
    "# Get a list of field names\n",
    "field_names = [field.name for field in arcpy.ListFields(feature_layer_path)]\n",
    "\n",
    "# Print the list of field names\n",
    "print(field_names)"
   ]
  },
  {
   "cell_type": "code",
   "execution_count": 35,
   "metadata": {},
   "outputs": [
    {
     "name": "stdout",
     "output_type": "stream",
     "text": [
      "Incorrect min_tmpf, ObjectID: 356\n",
      "Incorrect min_tmpf, ObjectID: 519\n",
      "Incorrect min_tmpf, ObjectID: 2779\n",
      "Incorrect min_tmpf, ObjectID: 2942\n",
      "Incorrect max_tmpf, ObjectID: 4076\n",
      "Incorrect max_tmpf, ObjectID: 4084\n",
      "Incorrect max_tmpf, ObjectID: 4171\n",
      "Incorrect max_tmpf, ObjectID: 4210\n",
      "[356, 519, 2779, 2942, 4076, 4084, 4171, 4210]\n"
     ]
    }
   ],
   "source": [
    "bad_data = []\n",
    "\n",
    "# Check the data points\n",
    "with arcpy.da.SearchCursor(out_features, [\"OBJECTID\", \"date\", \"min_tmpf\", \"max_tmpf\"]) as cursor:\n",
    "    for row in cursor:\n",
    "        obj_id = row[0]\n",
    "        date_col = row[1]\n",
    "        min_temp = row[2]\n",
    "        max_temp = row[3]\n",
    "        \n",
    "        date = datetime.datetime.strptime(date_col, '%Y-%m-%d')\n",
    "        is_february = date.month == 2\n",
    "        if min_temp is None:\n",
    "            is_min_valid = False\n",
    "        else: \n",
    "            is_min_valid = -30 <= min_temp <= 70\n",
    "        if max_temp is None:\n",
    "            is_max_valid = False\n",
    "        else: \n",
    "            is_max_valid = -30 <= max_temp <= 70\n",
    "\n",
    "        # Check if the date is within February, max_tmpf is betwen -30 and 70, and min_tmpf is between -30 and 70 \n",
    "        if not is_february:\n",
    "            print(f\"Incorrect date, ObjectID: {obj_id}\")\n",
    "            bad_data.append(obj_id)\n",
    "        elif not is_min_valid:\n",
    "            print(f\"Incorrect min_tmpf, ObjectID: {obj_id}\")\n",
    "            bad_data.append(obj_id)\n",
    "        elif not is_max_valid:\n",
    "            print(f\"Incorrect max_tmpf, ObjectID: {obj_id}\")\n",
    "            bad_data.append(obj_id)\n",
    "        \n",
    "print(bad_data)   \n",
    "     \n"
   ]
  },
  {
   "cell_type": "code",
   "execution_count": null,
   "metadata": {},
   "outputs": [],
   "source": [
    "arcpy.management.SelectLayerByAttribute(\n",
    "    in_layer_or_view=\"labgis5572.postgres.weather2_1\",\n",
    "    selection_type=\"NEW_SELECTION\",\n",
    "    where_clause=\"min_tmpf <= -30 Or max_tmpf > 70\",\n",
    "    invert_where_clause=None\n",
    ")"
   ]
  },
  {
   "cell_type": "code",
   "execution_count": 37,
   "metadata": {},
   "outputs": [
    {
     "data": {
      "text/html": [
       "<div class='gpresult'><h2>Messages</h2><div id='messages' data-messages='[\"Start Time: Sunday, March 24, 2024 4:47:46 PM\",\"Succeeded at Sunday, March 24, 2024 4:48:19 PM (Elapsed Time: 33.18 seconds)\"]' data-show='true'><div id = 'default' /></div></div>"
      ],
      "text/plain": [
       "<Result 'Z:\\\\Helpdesk\\\\Shana\\\\GIS 5572\\\\5572Lab3\\\\35.224.112.3.sde\\\\feb_weather_100'>"
      ]
     },
     "execution_count": 37,
     "metadata": {},
     "output_type": "execute_result"
    }
   ],
   "source": [
    "arcpy.env.workspace = \"Z:\\\\Helpdesk\\\\Shana\\\\GIS 5572\\\\5572Lab3\\\\35.224.112.3.sde\"\n",
    "spatial_ref = arcpy.SpatialReference(4326)\n",
    "out_name = \"feb_weather_100\"\n",
    "geometry_type = \"POINT\"\n",
    "arcpy.management.CreateFeatureclass(arcpy.env.workspace, out_name, geometry_type, spatial_reference=spatial_ref)"
   ]
  },
  {
   "cell_type": "markdown",
   "metadata": {},
   "source": [
    "## Problem:\n",
    "Everytime I try to save it as a feature class after doing the QA, no features show up. I'm not sure if I'm doing the deleting wrong or what. I finally went to the gui, and there it's telling me that there are no editable features to delete. \n",
    "\n",
    "I realized the problem is saving to the sde database. It kills Pro!"
   ]
  },
  {
   "cell_type": "code",
   "execution_count": null,
   "metadata": {},
   "outputs": [],
   "source": []
  }
 ],
 "metadata": {
  "kernelspec": {
   "display_name": "ArcGISPro",
   "language": "Python",
   "name": "python3"
  },
  "language_info": {
   "file_extension": ".py",
   "name": "python",
   "version": "3"
  }
 },
 "nbformat": 4,
 "nbformat_minor": 2
}
