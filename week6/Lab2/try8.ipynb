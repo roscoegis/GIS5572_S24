{
 "cells": [
  {
   "cell_type": "code",
   "execution_count": null,
   "metadata": {},
   "outputs": [],
   "source": []
  },
  {
   "cell_type": "code",
   "execution_count": 1,
   "metadata": {},
   "outputs": [],
   "source": [
    "import csv\n",
    "import requests\n",
    "import json\n",
    "import time\n",
    "import pandas as pd"
   ]
  },
  {
   "cell_type": "code",
   "execution_count": 4,
   "metadata": {},
   "outputs": [
    {
     "name": "stdout",
     "output_type": "stream",
     "text": [
      "{'@context': ['https://geojson.org/geojson-ld/geojson-context.jsonld', {'@version': '1.1', 'wx': 'https://api.weather.gov/ontology#', 's': 'https://schema.org/', 'geo': 'http://www.opengis.net/ont/geosparql#', 'unit': 'http://codes.wmo.int/common/unit/', '@vocab': 'https://api.weather.gov/ontology#', 'geometry': {'@id': 's:GeoCoordinates', '@type': 'geo:wktLiteral'}, 'city': 's:addressLocality', 'state': 's:addressRegion', 'distance': {'@id': 's:Distance', '@type': 's:QuantitativeValue'}, 'bearing': {'@type': 's:QuantitativeValue'}, 'value': {'@id': 's:value'}, 'unitCode': {'@id': 's:unitCode', '@type': '@id'}, 'forecastOffice': {'@type': '@id'}, 'forecastGridData': {'@type': '@id'}, 'publicZone': {'@type': '@id'}, 'county': {'@type': '@id'}}], 'id': 'https://api.weather.gov/points/44.9719,-93.2433', 'type': 'Feature', 'geometry': {'type': 'Point', 'coordinates': [-93.2433, 44.9719]}, 'properties': {'@id': 'https://api.weather.gov/points/44.9719,-93.2433', '@type': 'wx:Point', 'cwa': 'MPX', 'forecastOffice': 'https://api.weather.gov/offices/MPX', 'gridId': 'MPX', 'gridX': 109, 'gridY': 72, 'forecast': 'https://api.weather.gov/gridpoints/MPX/109,72/forecast', 'forecastHourly': 'https://api.weather.gov/gridpoints/MPX/109,72/forecast/hourly', 'forecastGridData': 'https://api.weather.gov/gridpoints/MPX/109,72', 'observationStations': 'https://api.weather.gov/gridpoints/MPX/109,72/stations', 'relativeLocation': {'type': 'Feature', 'geometry': {'type': 'Point', 'coordinates': [-93.26832, 44.963324]}, 'properties': {'city': 'Minneapolis', 'state': 'MN', 'distance': {'unitCode': 'wmoUnit:m', 'value': 2187.1873270951}, 'bearing': {'unitCode': 'wmoUnit:degree_(angle)', 'value': 64}}}, 'forecastZone': 'https://api.weather.gov/zones/forecast/MNZ060', 'county': 'https://api.weather.gov/zones/county/MNC053', 'fireWeatherZone': 'https://api.weather.gov/zones/fire/MNZ060', 'timeZone': 'America/Chicago', 'radarStation': 'KMPX'}}\n"
     ]
    }
   ],
   "source": [
    "# Get metadata for mylocation\n",
    "metadata = requests.get('https://api.weather.gov/points/44.971870,-93.243290')\n",
    "print(metadata.json())"
   ]
  },
  {
   "cell_type": "code",
   "execution_count": null,
   "metadata": {},
   "outputs": [],
   "source": []
  }
 ],
 "metadata": {
  "kernelspec": {
   "display_name": "base",
   "language": "python",
   "name": "python3"
  },
  "language_info": {
   "codemirror_mode": {
    "name": "ipython",
    "version": 3
   },
   "file_extension": ".py",
   "mimetype": "text/x-python",
   "name": "python",
   "nbconvert_exporter": "python",
   "pygments_lexer": "ipython3",
   "version": "3.11.6"
  }
 },
 "nbformat": 4,
 "nbformat_minor": 2
}
