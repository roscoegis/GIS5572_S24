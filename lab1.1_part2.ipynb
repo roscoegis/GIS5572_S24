{
 "cells": [
  {
   "cell_type": "markdown",
   "metadata": {},
   "source": [
    "## Lab 1-2, Part 2\n",
    "### GIS 5572, February 15, 2024\n",
    "Shana Crosson\n"
   ]
  },
  {
   "cell_type": "code",
   "execution_count": null,
   "metadata": {},
   "outputs": [],
   "source": [
    "#import necessary libraries\n",
    "import arcpy"
   ]
  },
  {
   "cell_type": "code",
   "execution_count": null,
   "metadata": {},
   "outputs": [],
   "source": [
    "# Order of operations!\n",
    "# 1. Create polygon, following activity from Feb 1 --  Create a list with points (type them each out)\n",
    "# 2. Convert to ArcPy Array\n",
    "# 3. Create polygon\n",
    "# 4. Create point geometry\n",
    "# 4. Convert to WKT\n",
    "# 5. attempt to import to the PostGIS db\n"
   ]
  },
  {
   "cell_type": "code",
   "execution_count": null,
   "metadata": {},
   "outputs": [],
   "source": [
    "# create points for polygon\n",
    "\n",
    "a = arcpy.Point(0,0)\n",
    "s = arcpy.Point(0,10)\n",
    "d = arcpy.Point(10,10)\n",
    "f = arcpy.Point(10,0)\n",
    "\n",
    "pointlist = [a,s,d,f]\n",
    "\n",
    "print(type(pointlist))\n",
    "\n",
    "# Convert to an array\n",
    "array = arcpy.Array(pointlist)\n",
    "# print(array)\n",
    "\n",
    "# Create a polygon\n",
    "# square = arcpy.Polygon(array)\n",
    "# print(square)\n",
    "\n",
    "# convert to SKT\n",
    "squarewkt = (arcpy.Polygon(array).WKT)\n",
    "print(squarewkt)"
   ]
  },
  {
   "cell_type": "code",
   "execution_count": null,
   "metadata": {},
   "outputs": [],
   "source": [
    "# Create a feature class in the PostGIS database expecting a polygon\n",
    "arcpy.management.CreateFeatureclass('35.224.112.3.sde','square_poly', 'POLYGON')"
   ]
  },
  {
   "cell_type": "code",
   "execution_count": null,
   "metadata": {},
   "outputs": [],
   "source": [
    "# add my polygon to the Feature Class\n",
    "# Following this Esri documentation:https://pro.arcgis.com/en/pro-app/latest/arcpy/data-access/insertcursor-class.htm\n",
    "try:\n",
    "    with arcpy.da.InsertCursor('35.224.112.3.sde\\labgis5572.postgres.square_poly', ['SHAPE@WKT']) as cursor:\n",
    "        cursor.insertRow([squarewkt])\n",
    "    print(\"Insertion successful!\")\n",
    "except Exception as e:\n",
    "    print(\"An error occurred:\", e)"
   ]
  },
  {
   "cell_type": "markdown",
   "metadata": {},
   "source": [
    "## Testing and Playing"
   ]
  },
  {
   "cell_type": "code",
   "execution_count": null,
   "metadata": {},
   "outputs": [],
   "source": [
    "square.area"
   ]
  },
  {
   "cell_type": "code",
   "execution_count": null,
   "metadata": {},
   "outputs": [],
   "source": [
    "# try point geometry\n",
    "\n",
    "arcpy.PointGeometry(a)\n",
    "arcpy.PointGeometry(s)\n",
    "arcpy.PointGeometry(d)\n",
    "arcpy.PointGeometry(f)"
   ]
  },
  {
   "cell_type": "code",
   "execution_count": null,
   "metadata": {},
   "outputs": [],
   "source": [
    "arcpy.Polygon(a,s,d,f)"
   ]
  },
  {
   "cell_type": "code",
   "execution_count": null,
   "metadata": {},
   "outputs": [],
   "source": [
    "square.buffer(20)"
   ]
  },
  {
   "cell_type": "code",
   "execution_count": null,
   "metadata": {},
   "outputs": [],
   "source": []
  }
 ],
 "metadata": {
  "kernelspec": {
   "display_name": "ArcGISPro",
   "language": "Python",
   "name": "python3"
  },
  "language_info": {
   "file_extension": ".py",
   "name": "python",
   "version": "3"
  }
 },
 "nbformat": 4,
 "nbformat_minor": 2
}
