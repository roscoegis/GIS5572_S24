{
 "cells": [
  {
   "cell_type": "markdown",
   "metadata": {},
   "source": [
    "## GIS 5572 Lab 2\n",
    "This notebook is part of Lab 2, and reflects the decision about which temperature data is relevant to the final project. It includes the acquisition of the data. The intention of this is to use it in the app we are designing. \n",
    "\n",
    "I am working on how to get the results in to the Postgres database. (See notebook about the Census data.)"
   ]
  },
  {
   "cell_type": "code",
   "execution_count": 19,
   "metadata": {},
   "outputs": [],
   "source": [
    "import csv\n",
    "import requests\n",
    "import json\n",
    "import time\n",
    "import pandas as pd\n",
    "import time as t #datetime and time do not work together by default, change name of time to t\n",
    "from datetime import datetime, timedelta\n",
    "import urllib.parse\n"
   ]
  },
  {
   "cell_type": "markdown",
   "metadata": {},
   "source": [
    "I am pulling the current weather data to go with the transportation data.\n",
    "I found the documentation at https://www.weather.gov/documentation/services-web-api#/default/zone_list"
   ]
  },
  {
   "cell_type": "code",
   "execution_count": 2,
   "metadata": {},
   "outputs": [
    {
     "name": "stdout",
     "output_type": "stream",
     "text": [
      "No alerts\n"
     ]
    }
   ],
   "source": [
    "alerts_url = 'https://api.weather.gov/alerts/active/zone/MNZ060'\n",
    "response = requests.get(alerts_url) \n",
    "\n",
    "# Check if data request is successful\n",
    "data = response.json()\n",
    "\n",
    "# Extract and print alerts\n",
    "if \"features\" in data:\n",
    "    alerts = data[\"features\"]\n",
    "    if alerts:\n",
    "        print(\"Current Weather for Hennepin County:\")\n",
    "        for alert in alerts:\n",
    "            title = alert[\"properties\"][\"headline\"]\n",
    "            description = alert[\"properties\"][\"description\"]\n",
    "            print(f\"{title}: {description}\")\n",
    "    else:\n",
    "        print(\"No alerts\")\n",
    "else:\n",
    "    print(\"No features in API response\")"
   ]
  },
  {
   "cell_type": "code",
   "execution_count": 3,
   "metadata": {},
   "outputs": [
    {
     "name": "stdout",
     "output_type": "stream",
     "text": [
      "Forecast for Hennepin County:\n",
      "Tonight : Mostly cloudy. Lows around 40. Northeast winds 10 to 15 mph.\n",
      "Thursday : Cooler. Mostly cloudy. Highs in the lower 50s. Northeast winds 10 to 15 mph.\n",
      "Thursday Night : Mostly cloudy. Lows in the lower 30s. North winds 5 to 15 mph.\n",
      "Friday : Mostly sunny. Highs in the lower 50s. Northwest winds 5 to 15 mph.\n",
      "Friday Night : Breezy. Partly cloudy in the evening then becoming mostly cloudy. Lows in the upper 30s. Southwest winds 10 to 15 mph shifting to the west 15 to 25 mph after midnight.\n",
      "Saturday : Windy. Partly sunny. Highs in the upper 40s.\n",
      "Saturday Night : Colder. Partly cloudy. Lows in the mid 20s.\n",
      "Sunday : Colder. Partly sunny. Highs in the mid 30s.\n",
      "Sunday Night : Partly cloudy. Lows around 20.\n",
      "Monday : Mostly sunny. Highs in the upper 30s.\n",
      "Monday Night : Partly cloudy. Lows in the mid 20s.\n",
      "Tuesday : Mostly sunny. Highs in the upper 40s.\n",
      "Tuesday Night : Mostly clear. Lows in the upper 20s.\n",
      "Wednesday : Sunny. Highs in the upper 40s.\n"
     ]
    }
   ],
   "source": [
    "# Pull the forecast\n",
    "# MNZ060 is the zone code for Hennepin County\n",
    "forecast_url = 'https://api.weather.gov/zones/forecast/MNZ060/forecast'\n",
    "forecast_response = requests.get(forecast_url)\n",
    "forecast_data = forecast_response.json()\n",
    "\n",
    "# Extract and print forecast\n",
    "if 'properties' in forecast_data and 'periods' in forecast_data['properties']:\n",
    "    periods = forecast_data[\"properties\"][\"periods\"]\n",
    "    forecast = forecast_data['properties']['periods']\n",
    "    if periods:\n",
    "        print(\"Forecast for Hennepin County:\")\n",
    "        for period in periods:\n",
    "            \n",
    "            day_name = period['name']\n",
    "            forecast_text = period['detailedForecast']\n",
    "            print(f\"{day_name} : {forecast_text}\")\n",
    "    else:\n",
    "        print(\"No forecast\")\n",
    "\n",
    "# TO DO: Get this to just pull today's forecast and the next 2 days"
   ]
  },
  {
   "cell_type": "code",
   "execution_count": 15,
   "metadata": {},
   "outputs": [
    {
     "name": "stdout",
     "output_type": "stream",
     "text": [
      "Current date and time: 2024-03-13 22:19:54.942925\n",
      "03/13/24 22:19:54\n"
     ]
    }
   ],
   "source": [
    "#Pull in current date and time\n",
    "# Pull in current date and time\n",
    "now = datetime.now()\n",
    "print(\"Current date and time:\", now)\n",
    "\n",
    "ftime = now.strftime('%m/%d/%y %H:%M:%S')\n",
    "print(ftime) \n",
    "\n",
    "\n"
   ]
  },
  {
   "cell_type": "markdown",
   "metadata": {},
   "source": [
    "## Current Weather Observations"
   ]
  },
  {
   "cell_type": "code",
   "execution_count": 20,
   "metadata": {},
   "outputs": [],
   "source": [
    "\n",
    "# This section gets the current time, calcuates one hour later, and formats the times for the API call\n",
    "# Get the current time \n",
    "current_time = datetime.utcnow()\n",
    "\n",
    "# Calculate one hour later\n",
    "one_hour_later = current_time + timedelta(hours=1)\n",
    "\n",
    "# Format the times for the API call\n",
    "start_time = current_time.strftime('%Y-%m-%dT%H:%M:%S.%fZ')\n",
    "end_time = one_hour_later.strftime('%Y-%m-%dT%H:%M:%S.%fZ')\n",
    "\n",
    "# URL encode the times\n",
    "start_time_encoded = urllib.parse.quote(start_time)\n",
    "end_time_encoded = urllib.parse.quote(end_time)"
   ]
  },
  {
   "cell_type": "code",
   "execution_count": 23,
   "metadata": {},
   "outputs": [
    {
     "name": "stdout",
     "output_type": "stream",
     "text": [
      "API URL: https://api.weather.gov/zones/forecast/MNZ060/observations?start=2024-03-14T03%3A30%3A16.902151Z&end=2024-03-14T04%3A30%3A16.902151Z\n"
     ]
    }
   ],
   "source": [
    "# Construct the API call\n",
    "observation_url = f\"https://api.weather.gov/zones/forecast/MNZ060/observations?start={start_time_encoded}&end={end_time_encoded}\"\n",
    "\n",
    "print(\"API URL:\", observation_url)"
   ]
  },
  {
   "cell_type": "code",
   "execution_count": 24,
   "metadata": {},
   "outputs": [
    {
     "name": "stdout",
     "output_type": "stream",
     "text": [
      "Current Weather Conditions for Hennepin County:\n",
      "No observations found.\n"
     ]
    }
   ],
   "source": [
    "# Make the API call using the URL we constructed\n",
    "observation_response = requests.get(observation_url)\n",
    "observation_data = observation_response.json()\n",
    "\n",
    "# Extract and print observations\n",
    "if \"features\" in observation_data:\n",
    "    print(\"Current Weather Conditions for Hennepin County:\")\n",
    "    for feature in observation_data[\"features\"]:\n",
    "        properties = feature.get(\"properties\", {})\n",
    "        temperature = properties.get(\"temperature\", {}).get(\"value\")\n",
    "        wind_speed = properties.get(\"windSpeed\", {}).get(\"value\")\n",
    "    \n",
    "        if temperature is not None and wind_speed is not None:\n",
    "            print(f\"Temperature: {temperature}°F, Wind: {wind_speed} mph\")\n",
    "        else:\n",
    "            print(\"Observation data incomplete.\")\n",
    "    else:\n",
    "        print(\"No observations found.\")\n",
    "else:\n",
    "    print(\"No features in API response.\")\n",
    "\n",
    "\n",
    "   \n",
    "   "
   ]
  },
  {
   "cell_type": "markdown",
   "metadata": {},
   "source": [
    "## Note: 3/13 \n",
    "Clearly, the observation part still isn't working correctly. I'll keep working on that.\n",
    "\n",
    "I still need to figure out how to get this data over to the database. "
   ]
  }
 ],
 "metadata": {
  "kernelspec": {
   "display_name": "base",
   "language": "python",
   "name": "python3"
  },
  "language_info": {
   "codemirror_mode": {
    "name": "ipython",
    "version": 3
   },
   "file_extension": ".py",
   "mimetype": "text/x-python",
   "name": "python",
   "nbconvert_exporter": "python",
   "pygments_lexer": "ipython3",
   "version": "3.11.6"
  }
 },
 "nbformat": 4,
 "nbformat_minor": 2
}
