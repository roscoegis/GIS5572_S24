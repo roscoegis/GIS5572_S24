{
 "cells": [
  {
   "cell_type": "code",
   "execution_count": 1,
   "metadata": {},
   "outputs": [],
   "source": [
    "# Import libraries\n",
    "\n",
    "import requests\n",
    "import pandas as pd\n",
    "import json\n",
    "import os\n",
    "import arcpy"
   ]
  },
  {
   "cell_type": "code",
   "execution_count": 5,
   "metadata": {},
   "outputs": [],
   "source": [
    "# define the workspace so the files write to this spot\n",
    "workspace = r'Z:\\Helpdesk\\Shana\\GIS 5572\\5572Final'"
   ]
  },
  {
   "cell_type": "code",
   "execution_count": 3,
   "metadata": {},
   "outputs": [],
   "source": [
    "# define the URL of the API from Sebastian with the delay data\n",
    "delayurl = 'https://schoolproject-m665hgo4ja-uc.a.run.app/data'"
   ]
  },
  {
   "cell_type": "code",
   "execution_count": 6,
   "metadata": {},
   "outputs": [],
   "source": [
    "# Request the data from the API\n",
    "# Write it to a file \n",
    "delaydata = requests.get(delayurl)\n",
    "\n",
    "file_path = os.path.join(workspace, 'delay.geojson')\n",
    "with open(file_path, 'wb') as file:\n",
    "    file.write(delaydata.content)"
   ]
  },
  {
   "cell_type": "code",
   "execution_count": 7,
   "metadata": {},
   "outputs": [
    {
     "data": {
      "text/html": [
       "<div class='gpresult'><h2>Messages</h2><div id='messages' data-messages='[\"Start Time: Wednesday, April 17, 2024 3:15:18 PM\",\"Succeeded at Wednesday, April 17, 2024 3:15:27 PM (Elapsed Time: 9.72 seconds)\"]' data-show='true'><div id = 'default' /></div></div>"
      ],
      "text/plain": [
       "<Result 'Z:\\\\Helpdesk\\\\Shana\\\\GIS 5572\\\\5572Final\\\\5572Final.gdb\\\\delay'>"
      ]
     },
     "execution_count": 7,
     "metadata": {},
     "output_type": "execute_result"
    }
   ],
   "source": [
    "# Convert the geojson to a feature layer\n",
    "out_features = r'Z:\\Helpdesk\\Shana\\GIS 5572\\5572Final\\5572Final.gdb\\delay'\n",
    "arcpy.conversion.JSONToFeatures(file_path, out_features, geometry_type=\"Point\")"
   ]
  },
  {
   "cell_type": "code",
   "execution_count": 20,
   "metadata": {},
   "outputs": [],
   "source": [
    "# get the field names\n",
    "field_names = [field.name for field in arcpy.ListFields('delay')]"
   ]
  },
  {
   "cell_type": "code",
   "execution_count": 24,
   "metadata": {},
   "outputs": [],
   "source": [
    "# Convert to a numpy array\n",
    "\n",
    "\n",
    "in_table = 'delay'\n",
    "\n",
    "\n",
    "delay_array = arcpy.da.FeatureClassToNumPyArray(in_table, ['OBJECTID', \"Shape\", \"time\", \"trip_id\", 'delay_saturday', 'saturday_status'])\n"
   ]
  },
  {
   "cell_type": "code",
   "execution_count": 25,
   "metadata": {},
   "outputs": [
    {
     "ename": "ValueError",
     "evalue": "Data must be 1-dimensional",
     "output_type": "error",
     "traceback": [
      "\u001b[0;31m---------------------------------------------------------------------------\u001b[0m\n\u001b[0;31mValueError\u001b[0m                                Traceback (most recent call last)",
      "In  \u001b[0;34m[25]\u001b[0m:\nLine \u001b[0;34m2\u001b[0m:     delay_df = pd.DataFrame(delay_array)\n",
      "File \u001b[0;34mC:\\Program Files\\ArcGIS\\Pro\\bin\\Python\\envs\\arcgispro-py3\\lib\\site-packages\\pandas\\core\\frame.py\u001b[0m, in \u001b[0;32m__init__\u001b[0m:\nLine \u001b[0;34m674\u001b[0m:   mgr = rec_array_to_mgr(\n",
      "File \u001b[0;34mC:\\Program Files\\ArcGIS\\Pro\\bin\\Python\\envs\\arcgispro-py3\\lib\\site-packages\\pandas\\core\\internals\\construction.py\u001b[0m, in \u001b[0;32mrec_array_to_mgr\u001b[0m:\nLine \u001b[0;34m208\u001b[0m:   mgr = arrays_to_mgr(arrays, columns, index, dtype=dtype, typ=typ)\n",
      "File \u001b[0;34mC:\\Program Files\\ArcGIS\\Pro\\bin\\Python\\envs\\arcgispro-py3\\lib\\site-packages\\pandas\\core\\internals\\construction.py\u001b[0m, in \u001b[0;32marrays_to_mgr\u001b[0m:\nLine \u001b[0;34m125\u001b[0m:   arrays = _homogenize(arrays, index, dtype)\n",
      "File \u001b[0;34mC:\\Program Files\\ArcGIS\\Pro\\bin\\Python\\envs\\arcgispro-py3\\lib\\site-packages\\pandas\\core\\internals\\construction.py\u001b[0m, in \u001b[0;32m_homogenize\u001b[0m:\nLine \u001b[0;34m625\u001b[0m:   val = sanitize_array(\n",
      "File \u001b[0;34mC:\\Program Files\\ArcGIS\\Pro\\bin\\Python\\envs\\arcgispro-py3\\lib\\site-packages\\pandas\\core\\construction.py\u001b[0m, in \u001b[0;32msanitize_array\u001b[0m:\nLine \u001b[0;34m601\u001b[0m:   subarr = _sanitize_ndim(subarr, data, dtype, index, allow_2d=allow_2d)\n",
      "File \u001b[0;34mC:\\Program Files\\ArcGIS\\Pro\\bin\\Python\\envs\\arcgispro-py3\\lib\\site-packages\\pandas\\core\\construction.py\u001b[0m, in \u001b[0;32m_sanitize_ndim\u001b[0m:\nLine \u001b[0;34m652\u001b[0m:   \u001b[34mraise\u001b[39;49;00m \u001b[36mValueError\u001b[39;49;00m(\u001b[33m\"\u001b[39;49;00m\u001b[33mData must be 1-dimensional\u001b[39;49;00m\u001b[33m\"\u001b[39;49;00m)\n",
      "\u001b[0;31mValueError\u001b[0m: Data must be 1-dimensional\n\u001b[0;31m---------------------------------------------------------------------------\u001b[0m"
     ]
    }
   ],
   "source": [
    "# convert arraty to a dataframe\n",
    "delay_df = pd.DataFrame(delay_array)\n",
    "print(delay_df(head))"
   ]
  },
  {
   "cell_type": "code",
   "execution_count": null,
   "metadata": {},
   "outputs": [],
   "source": []
  }
 ],
 "metadata": {
  "kernelspec": {
   "display_name": "ArcGISPro",
   "language": "Python",
   "name": "python3"
  },
  "language_info": {
   "file_extension": ".py",
   "name": "python",
   "version": "3"
  }
 },
 "nbformat": 4,
 "nbformat_minor": 2
}
