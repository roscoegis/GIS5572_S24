{
 "cells": [
  {
   "cell_type": "code",
   "execution_count": 1,
   "metadata": {},
   "outputs": [],
   "source": [
    "import time\n",
    "import requests\n",
    "import csv\n"
   ]
  },
  {
   "cell_type": "code",
   "execution_count": 2,
   "metadata": {},
   "outputs": [],
   "source": [
    "milktruck = \"https://qaqcmilktruck-qfcu3qoavq-uc.a.run.app/5572/milk_truck_sensor\""
   ]
  },
  {
   "cell_type": "code",
   "execution_count": 3,
   "metadata": {},
   "outputs": [],
   "source": [
    "truckdata = requests.get(milktruck)"
   ]
  },
  {
   "cell_type": "code",
   "execution_count": 6,
   "metadata": {},
   "outputs": [
    {
     "name": "stdout",
     "output_type": "stream",
     "text": [
      "{'lat': 48.210564671156234, 'lon': -94.30460327291487, 'current_time': '02/25/24:17:05:37', 'air_temperature': 23.780992976489223}\n",
      "{'lat': 47.14229882647544, 'lon': -93.84800616609078, 'current_time': '02/25/24:17:05:42', 'air_temperature': 19.825276813361768}\n",
      "Exiting\n"
     ]
    },
    {
     "ename": "",
     "evalue": "",
     "output_type": "error",
     "traceback": [
      "\u001b[1;31mThe Kernel crashed while executing code in the the current cell or a previous cell. Please review the code in the cell(s) to identify a possible cause of the failure. Click <a href='https://aka.ms/vscodeJupyterKernelCrash'>here</a> for more info. View Jupyter <a href='command:jupyter.viewOutput'>log</a> for further details."
     ]
    }
   ],
   "source": [
    "try:\n",
    "    while True:\n",
    "        truckdata = requests.get(milktruck)\n",
    "        print(truckdata.json()) \n",
    "        time.sleep(5)\n",
    "\n",
    "except KeyboardInterrupt:\n",
    "    print(\"Exiting\")\n",
    "    exit(0)\n",
    "\n"
   ]
  },
  {
   "cell_type": "code",
   "execution_count": 5,
   "metadata": {},
   "outputs": [],
   "source": [
    "def fetch_data_from_api(api_url):\n",
    "    try:\n",
    "        while True:\n",
    "            truckdata = requests.get(milktruck)\n",
    "            print(truckdata.json()) \n",
    "            time.sleep(5)\n",
    "\n",
    "    except KeyboardInterrupt:\n",
    "        print(\"Exiting\")\n",
    "        exit(0)\n",
    "\n"
   ]
  },
  {
   "cell_type": "code",
   "execution_count": 7,
   "metadata": {},
   "outputs": [
    {
     "ename": "SyntaxError",
     "evalue": "incomplete input (36604732.py, line 6)",
     "output_type": "error",
     "traceback": [
      "\u001b[0;36m  Cell \u001b[0;32mIn[7], line 6\u001b[0;36m\u001b[0m\n\u001b[0;31m    writer.writerow(truckdata.json())\u001b[0m\n\u001b[0m                                     ^\u001b[0m\n\u001b[0;31mSyntaxError\u001b[0m\u001b[0;31m:\u001b[0m incomplete input\n"
     ]
    }
   ],
   "source": [
    "\n",
    "try:\n",
    "    with open('milktruck.csv', 'w', newline='') as csvfile:\n",
    "        fieldnames = ['time', 'milk_level', 'temperature', 'humidity']\n",
    "        writer = csv.DictWriter(csvfile, fieldnames=fieldnames)\n",
    "        writer.writeheader()\n",
    "        writer.writerow(truckdata.json())"
   ]
  },
  {
   "cell_type": "code",
   "execution_count": 8,
   "metadata": {},
   "outputs": [
    {
     "ename": "NameError",
     "evalue": "name 'requests' is not defined",
     "output_type": "error",
     "traceback": [
      "\u001b[0;31m---------------------------------------------------------------------------\u001b[0m",
      "\u001b[0;31mNameError\u001b[0m                                 Traceback (most recent call last)",
      "\u001b[1;32m/Users/scrosson/Documents/GitHub/GIS5572_S24/week6/activity6.ipynb Cell 6\u001b[0m line \u001b[0;36m6\n\u001b[1;32m      <a href='vscode-notebook-cell:/Users/scrosson/Documents/GitHub/GIS5572_S24/week6/activity6.ipynb#W5sZmlsZQ%3D%3D?line=2'>3</a>\u001b[0m csv_file \u001b[39m=\u001b[39m \u001b[39m'\u001b[39m\u001b[39moutput.csv\u001b[39m\u001b[39m'\u001b[39m\n\u001b[1;32m      <a href='vscode-notebook-cell:/Users/scrosson/Documents/GitHub/GIS5572_S24/week6/activity6.ipynb#W5sZmlsZQ%3D%3D?line=4'>5</a>\u001b[0m \u001b[39mwhile\u001b[39;00m \u001b[39mTrue\u001b[39;00m:\n\u001b[0;32m----> <a href='vscode-notebook-cell:/Users/scrosson/Documents/GitHub/GIS5572_S24/week6/activity6.ipynb#W5sZmlsZQ%3D%3D?line=5'>6</a>\u001b[0m     data \u001b[39m=\u001b[39m fetch_data_from_api(api_url)\n\u001b[1;32m      <a href='vscode-notebook-cell:/Users/scrosson/Documents/GitHub/GIS5572_S24/week6/activity6.ipynb#W5sZmlsZQ%3D%3D?line=6'>7</a>\u001b[0m     \u001b[39mif\u001b[39;00m data:\n\u001b[1;32m      <a href='vscode-notebook-cell:/Users/scrosson/Documents/GitHub/GIS5572_S24/week6/activity6.ipynb#W5sZmlsZQ%3D%3D?line=7'>8</a>\u001b[0m         write_data_to_csv(data, csv_file)\n",
      "\u001b[1;32m/Users/scrosson/Documents/GitHub/GIS5572_S24/week6/activity6.ipynb Cell 6\u001b[0m line \u001b[0;36m4\n\u001b[1;32m      <a href='vscode-notebook-cell:/Users/scrosson/Documents/GitHub/GIS5572_S24/week6/activity6.ipynb#W5sZmlsZQ%3D%3D?line=1'>2</a>\u001b[0m \u001b[39mtry\u001b[39;00m:\n\u001b[1;32m      <a href='vscode-notebook-cell:/Users/scrosson/Documents/GitHub/GIS5572_S24/week6/activity6.ipynb#W5sZmlsZQ%3D%3D?line=2'>3</a>\u001b[0m     \u001b[39mwhile\u001b[39;00m \u001b[39mTrue\u001b[39;00m:\n\u001b[0;32m----> <a href='vscode-notebook-cell:/Users/scrosson/Documents/GitHub/GIS5572_S24/week6/activity6.ipynb#W5sZmlsZQ%3D%3D?line=3'>4</a>\u001b[0m         truckdata \u001b[39m=\u001b[39m requests\u001b[39m.\u001b[39mget(milktruck)\n\u001b[1;32m      <a href='vscode-notebook-cell:/Users/scrosson/Documents/GitHub/GIS5572_S24/week6/activity6.ipynb#W5sZmlsZQ%3D%3D?line=4'>5</a>\u001b[0m         \u001b[39mprint\u001b[39m(truckdata\u001b[39m.\u001b[39mjson()) \n\u001b[1;32m      <a href='vscode-notebook-cell:/Users/scrosson/Documents/GitHub/GIS5572_S24/week6/activity6.ipynb#W5sZmlsZQ%3D%3D?line=5'>6</a>\u001b[0m         time\u001b[39m.\u001b[39msleep(\u001b[39m5\u001b[39m)\n",
      "\u001b[0;31mNameError\u001b[0m: name 'requests' is not defined"
     ]
    }
   ],
   "source": [
    "if __name__ == \"__main__\":\n",
    "    api_url = 'milktruck'\n",
    "    csv_file = 'output.csv'\n",
    "    \n",
    "    while True:\n",
    "        data = fetch_data_from_api(api_url)\n",
    "        if data:\n",
    "            write_data_to_csv(data, csv_file)\n",
    "            print(\"Data written to CSV successfully.\")\n",
    "        time.sleep(5)  # Fetch data every 5 seconds"
   ]
  }
 ],
 "metadata": {
  "kernelspec": {
   "display_name": "Python 3",
   "language": "python",
   "name": "python3"
  },
  "language_info": {
   "codemirror_mode": {
    "name": "ipython",
    "version": 3
   },
   "file_extension": ".py",
   "mimetype": "text/x-python",
   "name": "python",
   "nbconvert_exporter": "python",
   "pygments_lexer": "ipython3",
   "version": "3.11.6"
  }
 },
 "nbformat": 4,
 "nbformat_minor": 2
}
