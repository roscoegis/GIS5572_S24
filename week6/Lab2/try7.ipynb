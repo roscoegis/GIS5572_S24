{
 "cells": [
  {
   "cell_type": "code",
   "execution_count": null,
   "metadata": {},
   "outputs": [],
   "source": []
  },
  {
   "cell_type": "code",
   "execution_count": 1,
   "metadata": {},
   "outputs": [],
   "source": [
    "import csv\n",
    "import requests\n",
    "import json\n",
    "import time\n",
    "import pandas as pd"
   ]
  },
  {
   "cell_type": "code",
   "execution_count": 2,
   "metadata": {},
   "outputs": [],
   "source": [
    "# Define the URL and pull the data\n",
    "milktruck = \"https://qaqcmilktruck-qfcu3qoavq-uc.a.run.app/5572/milk_truck_sensor\"\n",
    "#response = requests.get(milktruck)\n"
   ]
  },
  {
   "cell_type": "code",
   "execution_count": 3,
   "metadata": {},
   "outputs": [
    {
     "name": "stdout",
     "output_type": "stream",
     "text": [
      "Data fetched successfully {'lat': 47.23243492979384, 'lon': -92.33832614907712, 'current_time': '02/25/24:22:28:37', 'air_temperature': 5.573765348248653}\n",
      "Data fetched successfully {'lat': 47.545284144350276, 'lon': -91.99916276262725, 'current_time': '02/25/24:22:28:42', 'air_temperature': 20.903382951509037}\n",
      "Data fetched successfully {'lat': 47.14124984246949, 'lon': -95.09780375935219, 'current_time': '02/25/24:22:28:48', 'air_temperature': 34.80819654694717}\n",
      "Exiting\n"
     ]
    },
    {
     "ename": "",
     "evalue": "",
     "output_type": "error",
     "traceback": [
      "\u001b[1;31mThe Kernel crashed while executing code in the the current cell or a previous cell. Please review the code in the cell(s) to identify a possible cause of the failure. Click <a href='https://aka.ms/vscodeJupyterKernelCrash'>here</a> for more info. View Jupyter <a href='command:jupyter.viewOutput'>log</a> for further details."
     ]
    }
   ],
   "source": [
    "# Bring in data\n",
    "try:\n",
    "    while True:\n",
    "        response = requests.get(milktruck)\n",
    "        if response.status_code != 200:\n",
    "            print(\"Failed to fetch data:\", response.status_code)\n",
    "            exit()\n",
    "        else:\n",
    "            data = response.json()  # Convert the response to JSON\n",
    "            print(\"Data fetched successfully\", data)\n",
    "\n",
    "        time.sleep(5)\n",
    "except KeyboardInterrupt:\n",
    "    print(\"Exiting\")\n",
    "    exit(0)\n",
    "\n",
    "\n",
    "       \n",
    "# check for completeness of data. This defines the data\n",
    "lat_error = data['lat'] == 'nan'\n",
    "long_error = data['lon'] == 'nan'\n",
    "time_error = data['current_time'] == 'nan'\n",
    "temp_error = data['air_temperature'] == 'nan'\n",
    "\n",
    "# this runs the check\n",
    "if lat_error or long_error or time_error or temp_error:\n",
    "    print(\"Data is incomplete\") # if the data is incomplete, print this\n",
    "\n",
    "else: # if the data is good, print this\n",
    "    print(\"Data is complete\")\n",
    "\n",
    "\n"
   ]
  },
  {
   "cell_type": "code",
   "execution_count": null,
   "metadata": {},
   "outputs": [],
   "source": []
  }
 ],
 "metadata": {
  "kernelspec": {
   "display_name": "base",
   "language": "python",
   "name": "python3"
  },
  "language_info": {
   "codemirror_mode": {
    "name": "ipython",
    "version": 3
   },
   "file_extension": ".py",
   "mimetype": "text/x-python",
   "name": "python",
   "nbconvert_exporter": "python",
   "pygments_lexer": "ipython3",
   "version": "3.11.6"
  }
 },
 "nbformat": 4,
 "nbformat_minor": 2
}
